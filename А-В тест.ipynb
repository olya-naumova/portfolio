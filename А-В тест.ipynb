{
 "cells": [
  {
   "cell_type": "markdown",
   "metadata": {},
   "source": [
    "# Описание проекта \n",
    "Данные получены от стартапа, который продаёт продукты питания. Нужно разобраться, как ведут себя пользователи мобильного приложения. Для этого необходимо изучить воронку и провести анализ результатов А/А/В-теста.\n",
    "\n",
    "Описание данных:\n",
    "Каждая запись в логе — это действие пользователя, или событие. \n",
    "EventName — название события;\n",
    "DeviceIDHash — уникальный идентификатор пользователя;\n",
    "EventTimestamp — время события;\n",
    "ExpId — номер эксперимента: 246 и 247 — контрольные группы, а 248 — экспериментальная.\n",
    "Проект пройдет в несколько этапов:\n",
    "1. Подготовка данных для дальнейшего исследования.\n",
    "2. Изучение и проверка данных\n",
    "3. Построение воронки событий \n",
    "4. Анализ результатов А/А/В эксперимента"
   ]
  },
  {
   "cell_type": "code",
   "execution_count": 1,
   "metadata": {},
   "outputs": [],
   "source": [
    "# Импортируем необходимые библиотеки\n",
    "import pandas as pd\n",
    "import matplotlib.pyplot as plt\n",
    "import numpy as np\n",
    "import seaborn as sns\n",
    "from datetime import datetime, timedelta\n",
    "from scipy import stats as st\n",
    "import math as mth\n",
    "from plotly import graph_objects as go"
   ]
  },
  {
   "cell_type": "markdown",
   "metadata": {},
   "source": [
    "## Подготовка данных"
   ]
  },
  {
   "cell_type": "code",
   "execution_count": 2,
   "metadata": {},
   "outputs": [],
   "source": [
    "# Откроем файл\n",
    "data = pd.read_csv('/datasets/logs_exp.csv', sep='\\t')\n"
   ]
  },
  {
   "cell_type": "code",
   "execution_count": 3,
   "metadata": {},
   "outputs": [
    {
     "data": {
      "text/html": [
       "<div>\n",
       "<style scoped>\n",
       "    .dataframe tbody tr th:only-of-type {\n",
       "        vertical-align: middle;\n",
       "    }\n",
       "\n",
       "    .dataframe tbody tr th {\n",
       "        vertical-align: top;\n",
       "    }\n",
       "\n",
       "    .dataframe thead th {\n",
       "        text-align: right;\n",
       "    }\n",
       "</style>\n",
       "<table border=\"1\" class=\"dataframe\">\n",
       "  <thead>\n",
       "    <tr style=\"text-align: right;\">\n",
       "      <th></th>\n",
       "      <th>EventName</th>\n",
       "      <th>DeviceIDHash</th>\n",
       "      <th>EventTimestamp</th>\n",
       "      <th>ExpId</th>\n",
       "    </tr>\n",
       "  </thead>\n",
       "  <tbody>\n",
       "    <tr>\n",
       "      <th>0</th>\n",
       "      <td>MainScreenAppear</td>\n",
       "      <td>4575588528974610257</td>\n",
       "      <td>1564029816</td>\n",
       "      <td>246</td>\n",
       "    </tr>\n",
       "    <tr>\n",
       "      <th>1</th>\n",
       "      <td>MainScreenAppear</td>\n",
       "      <td>7416695313311560658</td>\n",
       "      <td>1564053102</td>\n",
       "      <td>246</td>\n",
       "    </tr>\n",
       "    <tr>\n",
       "      <th>2</th>\n",
       "      <td>PaymentScreenSuccessful</td>\n",
       "      <td>3518123091307005509</td>\n",
       "      <td>1564054127</td>\n",
       "      <td>248</td>\n",
       "    </tr>\n",
       "    <tr>\n",
       "      <th>3</th>\n",
       "      <td>CartScreenAppear</td>\n",
       "      <td>3518123091307005509</td>\n",
       "      <td>1564054127</td>\n",
       "      <td>248</td>\n",
       "    </tr>\n",
       "    <tr>\n",
       "      <th>4</th>\n",
       "      <td>PaymentScreenSuccessful</td>\n",
       "      <td>6217807653094995999</td>\n",
       "      <td>1564055322</td>\n",
       "      <td>248</td>\n",
       "    </tr>\n",
       "  </tbody>\n",
       "</table>\n",
       "</div>"
      ],
      "text/plain": [
       "                 EventName         DeviceIDHash  EventTimestamp  ExpId\n",
       "0         MainScreenAppear  4575588528974610257      1564029816    246\n",
       "1         MainScreenAppear  7416695313311560658      1564053102    246\n",
       "2  PaymentScreenSuccessful  3518123091307005509      1564054127    248\n",
       "3         CartScreenAppear  3518123091307005509      1564054127    248\n",
       "4  PaymentScreenSuccessful  6217807653094995999      1564055322    248"
      ]
     },
     "metadata": {},
     "output_type": "display_data"
    },
    {
     "name": "stdout",
     "output_type": "stream",
     "text": [
      "<class 'pandas.core.frame.DataFrame'>\n",
      "RangeIndex: 244126 entries, 0 to 244125\n",
      "Data columns (total 4 columns):\n",
      " #   Column          Non-Null Count   Dtype \n",
      "---  ------          --------------   ----- \n",
      " 0   EventName       244126 non-null  object\n",
      " 1   DeviceIDHash    244126 non-null  int64 \n",
      " 2   EventTimestamp  244126 non-null  int64 \n",
      " 3   ExpId           244126 non-null  int64 \n",
      "dtypes: int64(3), object(1)\n",
      "memory usage: 7.5+ MB\n"
     ]
    }
   ],
   "source": [
    "display(data.head())\n",
    "data.info()"
   ]
  },
  {
   "cell_type": "markdown",
   "metadata": {},
   "source": [
    "Пропусков в данных нет"
   ]
  },
  {
   "cell_type": "code",
   "execution_count": 4,
   "metadata": {},
   "outputs": [],
   "source": [
    "# Переименуем столбцы\n",
    "data.columns = ['event_name', 'user_id', 'event_dt', 'group']"
   ]
  },
  {
   "cell_type": "code",
   "execution_count": 5,
   "metadata": {},
   "outputs": [
    {
     "data": {
      "text/plain": [
       "413"
      ]
     },
     "execution_count": 5,
     "metadata": {},
     "output_type": "execute_result"
    }
   ],
   "source": [
    "# Проверим на явные дупликаты\n",
    "data.duplicated().sum()"
   ]
  },
  {
   "cell_type": "markdown",
   "metadata": {},
   "source": [
    "Выявленные дупликаты составляют около 0.17% от общего объема, поэтому их можно удалить без искажения данных."
   ]
  },
  {
   "cell_type": "code",
   "execution_count": 6,
   "metadata": {},
   "outputs": [],
   "source": [
    "# Удалим дупликаты\n",
    "data = data.drop_duplicates().reset_index(drop=True)"
   ]
  },
  {
   "cell_type": "code",
   "execution_count": 7,
   "metadata": {},
   "outputs": [],
   "source": [
    "# Переведем столбец со временем события к необходимому типу\n",
    "data['event_dt'] = pd.to_datetime(data['event_dt'], unit='s')"
   ]
  },
  {
   "cell_type": "code",
   "execution_count": 8,
   "metadata": {},
   "outputs": [],
   "source": [
    "# Добавим столбец с датой события\n",
    "data['date'] = pd.to_datetime(data['event_dt'].dt.date)"
   ]
  },
  {
   "cell_type": "code",
   "execution_count": 9,
   "metadata": {},
   "outputs": [
    {
     "name": "stdout",
     "output_type": "stream",
     "text": [
      "<class 'pandas.core.frame.DataFrame'>\n",
      "RangeIndex: 243713 entries, 0 to 243712\n",
      "Data columns (total 5 columns):\n",
      " #   Column      Non-Null Count   Dtype         \n",
      "---  ------      --------------   -----         \n",
      " 0   event_name  243713 non-null  object        \n",
      " 1   user_id     243713 non-null  int64         \n",
      " 2   event_dt    243713 non-null  datetime64[ns]\n",
      " 3   group       243713 non-null  int64         \n",
      " 4   date        243713 non-null  datetime64[ns]\n",
      "dtypes: datetime64[ns](2), int64(2), object(1)\n",
      "memory usage: 9.3+ MB\n"
     ]
    }
   ],
   "source": [
    "data.info()"
   ]
  },
  {
   "cell_type": "code",
   "execution_count": 10,
   "metadata": {},
   "outputs": [
    {
     "data": {
      "text/html": [
       "<div>\n",
       "<style scoped>\n",
       "    .dataframe tbody tr th:only-of-type {\n",
       "        vertical-align: middle;\n",
       "    }\n",
       "\n",
       "    .dataframe tbody tr th {\n",
       "        vertical-align: top;\n",
       "    }\n",
       "\n",
       "    .dataframe thead th {\n",
       "        text-align: right;\n",
       "    }\n",
       "</style>\n",
       "<table border=\"1\" class=\"dataframe\">\n",
       "  <thead>\n",
       "    <tr style=\"text-align: right;\">\n",
       "      <th></th>\n",
       "      <th>event_name</th>\n",
       "      <th>user_id</th>\n",
       "      <th>event_dt</th>\n",
       "      <th>group</th>\n",
       "      <th>date</th>\n",
       "    </tr>\n",
       "  </thead>\n",
       "  <tbody>\n",
       "    <tr>\n",
       "      <th>0</th>\n",
       "      <td>MainScreenAppear</td>\n",
       "      <td>4575588528974610257</td>\n",
       "      <td>2019-07-25 04:43:36</td>\n",
       "      <td>246</td>\n",
       "      <td>2019-07-25</td>\n",
       "    </tr>\n",
       "    <tr>\n",
       "      <th>1</th>\n",
       "      <td>MainScreenAppear</td>\n",
       "      <td>7416695313311560658</td>\n",
       "      <td>2019-07-25 11:11:42</td>\n",
       "      <td>246</td>\n",
       "      <td>2019-07-25</td>\n",
       "    </tr>\n",
       "    <tr>\n",
       "      <th>2</th>\n",
       "      <td>PaymentScreenSuccessful</td>\n",
       "      <td>3518123091307005509</td>\n",
       "      <td>2019-07-25 11:28:47</td>\n",
       "      <td>248</td>\n",
       "      <td>2019-07-25</td>\n",
       "    </tr>\n",
       "    <tr>\n",
       "      <th>3</th>\n",
       "      <td>CartScreenAppear</td>\n",
       "      <td>3518123091307005509</td>\n",
       "      <td>2019-07-25 11:28:47</td>\n",
       "      <td>248</td>\n",
       "      <td>2019-07-25</td>\n",
       "    </tr>\n",
       "    <tr>\n",
       "      <th>4</th>\n",
       "      <td>PaymentScreenSuccessful</td>\n",
       "      <td>6217807653094995999</td>\n",
       "      <td>2019-07-25 11:48:42</td>\n",
       "      <td>248</td>\n",
       "      <td>2019-07-25</td>\n",
       "    </tr>\n",
       "  </tbody>\n",
       "</table>\n",
       "</div>"
      ],
      "text/plain": [
       "                event_name              user_id            event_dt  group  \\\n",
       "0         MainScreenAppear  4575588528974610257 2019-07-25 04:43:36    246   \n",
       "1         MainScreenAppear  7416695313311560658 2019-07-25 11:11:42    246   \n",
       "2  PaymentScreenSuccessful  3518123091307005509 2019-07-25 11:28:47    248   \n",
       "3         CartScreenAppear  3518123091307005509 2019-07-25 11:28:47    248   \n",
       "4  PaymentScreenSuccessful  6217807653094995999 2019-07-25 11:48:42    248   \n",
       "\n",
       "        date  \n",
       "0 2019-07-25  \n",
       "1 2019-07-25  \n",
       "2 2019-07-25  \n",
       "3 2019-07-25  \n",
       "4 2019-07-25  "
      ]
     },
     "execution_count": 10,
     "metadata": {},
     "output_type": "execute_result"
    }
   ],
   "source": [
    "data.head()"
   ]
  },
  {
   "cell_type": "markdown",
   "metadata": {},
   "source": [
    "На первом этапе обработали данные для дальнейщего исследования. Переименовали столбцы датафрейма в удоюные для понимания, удалили явные дупликаты и превели к требуемому типу данных сталбцы с датой."
   ]
  },
  {
   "cell_type": "markdown",
   "metadata": {},
   "source": [
    "## Проверка данных"
   ]
  },
  {
   "cell_type": "code",
   "execution_count": 11,
   "metadata": {},
   "outputs": [
    {
     "data": {
      "text/plain": [
       "5"
      ]
     },
     "metadata": {},
     "output_type": "display_data"
    },
    {
     "data": {
      "text/plain": [
       "array(['MainScreenAppear', 'PaymentScreenSuccessful', 'CartScreenAppear',\n",
       "       'OffersScreenAppear', 'Tutorial'], dtype=object)"
      ]
     },
     "execution_count": 11,
     "metadata": {},
     "output_type": "execute_result"
    }
   ],
   "source": [
    "# Выведем и посчитаем уникальные события\n",
    "display(data['event_name'].nunique())\n",
    "data['event_name'].unique()"
   ]
  },
  {
   "cell_type": "code",
   "execution_count": 12,
   "metadata": {},
   "outputs": [
    {
     "data": {
      "text/plain": [
       "7551"
      ]
     },
     "execution_count": 12,
     "metadata": {},
     "output_type": "execute_result"
    }
   ],
   "source": [
    "# Посчитаем уникальных пользователей\n",
    "data['user_id'].nunique()"
   ]
  },
  {
   "cell_type": "code",
   "execution_count": 13,
   "metadata": {},
   "outputs": [
    {
     "data": {
      "text/plain": [
       "event_name    20.0\n",
       "dtype: float64"
      ]
     },
     "execution_count": 13,
     "metadata": {},
     "output_type": "execute_result"
    }
   ],
   "source": [
    "# Посчитаем сколько в среднем событий приходится на одного пользователя\n",
    "data.groupby('user_id').agg({'event_name':'count'}).median()"
   ]
  },
  {
   "cell_type": "markdown",
   "metadata": {},
   "source": [
    "Посчитаем медианное значение, так как присутсвуют вбросы, которые могут повлиять на расчитываемое значение. В среднем на одного пользователя приходится 20 событий."
   ]
  },
  {
   "cell_type": "code",
   "execution_count": 14,
   "metadata": {},
   "outputs": [
    {
     "data": {
      "text/plain": [
       "Timestamp('2019-07-25 00:00:00')"
      ]
     },
     "metadata": {},
     "output_type": "display_data"
    },
    {
     "data": {
      "text/plain": [
       "Timestamp('2019-08-07 00:00:00')"
      ]
     },
     "execution_count": 14,
     "metadata": {},
     "output_type": "execute_result"
    }
   ],
   "source": [
    "# Вывудем самую ранюю и позднюю дату\n",
    "display(data['date'].min())\n",
    "data['date'].max()"
   ]
  },
  {
   "cell_type": "code",
   "execution_count": 15,
   "metadata": {},
   "outputs": [
    {
     "data": {
      "image/png": "[encoded data removed]",
      "text/plain": [
       "<Figure size 720x360 with 1 Axes>"
      ]
     },
     "metadata": {
      "needs_background": "light"
     },
     "output_type": "display_data"
    }
   ],
   "source": [
    "# Построи гистограму с распределением событий по датам \n",
    "data['date'].hist(bins=25, figsize=(10,5))\n",
    "plt.xticks(rotation=90)\n",
    "plt.title('Распределение событий по дате')\n",
    "plt.ylabel('Количество событий')\n",
    "plt.xlabel('Дата')\n",
    "plt.show()"
   ]
  },
  {
   "cell_type": "markdown",
   "metadata": {},
   "source": [
    "По графику видно, что полные данные имеются начиная с августа 2019 года. Удалим более ранние данные."
   ]
  },
  {
   "cell_type": "code",
   "execution_count": 16,
   "metadata": {},
   "outputs": [],
   "source": [
    "# Найдем кол-во данных о событиях и пользователях в исходном датафрейме\n",
    "a = data['event_name'].count()\n",
    "a1 = data['user_id'].nunique()"
   ]
  },
  {
   "cell_type": "code",
   "execution_count": 17,
   "metadata": {},
   "outputs": [],
   "source": [
    "# Очистим данные от неполной информации\n",
    "data = data.query('date >= \"2019-08-01\"')\n",
    "b = a - data['event_name'].count()\n",
    "b1 = round((1 - data['event_name'].count()/a) *100, 2)\n",
    "b2 = a1 - data['user_id'].nunique()\n",
    "b3 = round((1 - data['user_id'].nunique()/a1)*100, 2)"
   ]
  },
  {
   "cell_type": "code",
   "execution_count": 18,
   "metadata": {},
   "outputs": [
    {
     "data": {
      "text/plain": [
       "'Абсолютная потеря по количеству событий: 2826'"
      ]
     },
     "metadata": {},
     "output_type": "display_data"
    },
    {
     "data": {
      "text/plain": [
       "'Относительная потеря по количеству событий: 1.16%'"
      ]
     },
     "metadata": {},
     "output_type": "display_data"
    },
    {
     "data": {
      "text/plain": [
       "'Абсолютная потеря по количеству пользователей: 17'"
      ]
     },
     "metadata": {},
     "output_type": "display_data"
    },
    {
     "data": {
      "text/plain": [
       "'Относительная потеря по количеству пользователей: 0.23%'"
      ]
     },
     "metadata": {},
     "output_type": "display_data"
    }
   ],
   "source": [
    "display('Абсолютная потеря по количеству событий: {}'.format(b))\n",
    "display('Относительная потеря по количеству событий: {}%'.format(b1))\n",
    "display('Абсолютная потеря по количеству пользователей: {}'.format(b2))\n",
    "display('Относительная потеря по количеству пользователей: {}%'.format(b3))"
   ]
  },
  {
   "cell_type": "markdown",
   "metadata": {},
   "source": [
    " Количество потерянных данных мало и не исказит результаты исследования."
   ]
  },
  {
   "cell_type": "code",
   "execution_count": 19,
   "metadata": {},
   "outputs": [],
   "source": [
    " # Разделим данные по группам\n",
    "gr246 = data.query('group == 246')\n",
    "gr247 = data.query('group == 247')\n",
    "gr248 = data.query('group == 248')"
   ]
  },
  {
   "cell_type": "code",
   "execution_count": 20,
   "metadata": {},
   "outputs": [
    {
     "data": {
      "text/plain": [
       "2484"
      ]
     },
     "metadata": {},
     "output_type": "display_data"
    },
    {
     "data": {
      "text/plain": [
       "2513"
      ]
     },
     "metadata": {},
     "output_type": "display_data"
    },
    {
     "data": {
      "text/plain": [
       "2537"
      ]
     },
     "execution_count": 20,
     "metadata": {},
     "output_type": "execute_result"
    }
   ],
   "source": [
    "# Узнаем количество пользователей в каждой группе\n",
    "display(len(gr246['user_id'].unique()))\n",
    "display(len(gr247['user_id'].unique()))\n",
    "len(gr248['user_id'].unique())"
   ]
  },
  {
   "cell_type": "code",
   "execution_count": 21,
   "metadata": {},
   "outputs": [
    {
     "data": {
      "text/html": [
       "<div>\n",
       "<style scoped>\n",
       "    .dataframe tbody tr th:only-of-type {\n",
       "        vertical-align: middle;\n",
       "    }\n",
       "\n",
       "    .dataframe tbody tr th {\n",
       "        vertical-align: top;\n",
       "    }\n",
       "\n",
       "    .dataframe thead th {\n",
       "        text-align: right;\n",
       "    }\n",
       "</style>\n",
       "<table border=\"1\" class=\"dataframe\">\n",
       "  <thead>\n",
       "    <tr style=\"text-align: right;\">\n",
       "      <th></th>\n",
       "      <th>group</th>\n",
       "    </tr>\n",
       "    <tr>\n",
       "      <th>user_id</th>\n",
       "      <th></th>\n",
       "    </tr>\n",
       "  </thead>\n",
       "  <tbody>\n",
       "  </tbody>\n",
       "</table>\n",
       "</div>"
      ],
      "text/plain": [
       "Empty DataFrame\n",
       "Columns: [group]\n",
       "Index: []"
      ]
     },
     "execution_count": 21,
     "metadata": {},
     "output_type": "execute_result"
    }
   ],
   "source": [
    "# Проверим пользователей, которые могли участвовать в двух или нескольких группах одновременно:\n",
    "data.groupby('user_id').agg({'group':'nunique'}).query('group > 1') "
   ]
  },
  {
   "cell_type": "markdown",
   "metadata": {},
   "source": [
    "Пользователи распределены по группам корректно."
   ]
  },
  {
   "cell_type": "markdown",
   "metadata": {},
   "source": [
    "## Воронка событий"
   ]
  },
  {
   "cell_type": "code",
   "execution_count": 22,
   "metadata": {},
   "outputs": [
    {
     "data": {
      "text/html": [
       "<div>\n",
       "<style scoped>\n",
       "    .dataframe tbody tr th:only-of-type {\n",
       "        vertical-align: middle;\n",
       "    }\n",
       "\n",
       "    .dataframe tbody tr th {\n",
       "        vertical-align: top;\n",
       "    }\n",
       "\n",
       "    .dataframe thead th {\n",
       "        text-align: right;\n",
       "    }\n",
       "</style>\n",
       "<table border=\"1\" class=\"dataframe\">\n",
       "  <thead>\n",
       "    <tr style=\"text-align: right;\">\n",
       "      <th></th>\n",
       "      <th>user_id</th>\n",
       "    </tr>\n",
       "    <tr>\n",
       "      <th>event_name</th>\n",
       "      <th></th>\n",
       "    </tr>\n",
       "  </thead>\n",
       "  <tbody>\n",
       "    <tr>\n",
       "      <th>MainScreenAppear</th>\n",
       "      <td>117328</td>\n",
       "    </tr>\n",
       "    <tr>\n",
       "      <th>OffersScreenAppear</th>\n",
       "      <td>46333</td>\n",
       "    </tr>\n",
       "    <tr>\n",
       "      <th>CartScreenAppear</th>\n",
       "      <td>42303</td>\n",
       "    </tr>\n",
       "    <tr>\n",
       "      <th>PaymentScreenSuccessful</th>\n",
       "      <td>33918</td>\n",
       "    </tr>\n",
       "    <tr>\n",
       "      <th>Tutorial</th>\n",
       "      <td>1005</td>\n",
       "    </tr>\n",
       "  </tbody>\n",
       "</table>\n",
       "</div>"
      ],
      "text/plain": [
       "                         user_id\n",
       "event_name                      \n",
       "MainScreenAppear          117328\n",
       "OffersScreenAppear         46333\n",
       "CartScreenAppear           42303\n",
       "PaymentScreenSuccessful    33918\n",
       "Tutorial                    1005"
      ]
     },
     "execution_count": 22,
     "metadata": {},
     "output_type": "execute_result"
    }
   ],
   "source": [
    "# Узнаем сколько раз было совершено каждое событие\n",
    "data.groupby('event_name').agg({'user_id':'count'}).sort_values(by='user_id', ascending=False)"
   ]
  },
  {
   "cell_type": "markdown",
   "metadata": {},
   "source": []
  },
  {
   "cell_type": "code",
   "execution_count": 23,
   "metadata": {},
   "outputs": [
    {
     "data": {
      "text/html": [
       "<div>\n",
       "<style scoped>\n",
       "    .dataframe tbody tr th:only-of-type {\n",
       "        vertical-align: middle;\n",
       "    }\n",
       "\n",
       "    .dataframe tbody tr th {\n",
       "        vertical-align: top;\n",
       "    }\n",
       "\n",
       "    .dataframe thead th {\n",
       "        text-align: right;\n",
       "    }\n",
       "</style>\n",
       "<table border=\"1\" class=\"dataframe\">\n",
       "  <thead>\n",
       "    <tr style=\"text-align: right;\">\n",
       "      <th></th>\n",
       "      <th>user_id</th>\n",
       "    </tr>\n",
       "    <tr>\n",
       "      <th>event_name</th>\n",
       "      <th></th>\n",
       "    </tr>\n",
       "  </thead>\n",
       "  <tbody>\n",
       "    <tr>\n",
       "      <th>MainScreenAppear</th>\n",
       "      <td>7419</td>\n",
       "    </tr>\n",
       "    <tr>\n",
       "      <th>OffersScreenAppear</th>\n",
       "      <td>4593</td>\n",
       "    </tr>\n",
       "    <tr>\n",
       "      <th>CartScreenAppear</th>\n",
       "      <td>3734</td>\n",
       "    </tr>\n",
       "    <tr>\n",
       "      <th>PaymentScreenSuccessful</th>\n",
       "      <td>3539</td>\n",
       "    </tr>\n",
       "    <tr>\n",
       "      <th>Tutorial</th>\n",
       "      <td>840</td>\n",
       "    </tr>\n",
       "  </tbody>\n",
       "</table>\n",
       "</div>"
      ],
      "text/plain": [
       "                         user_id\n",
       "event_name                      \n",
       "MainScreenAppear            7419\n",
       "OffersScreenAppear          4593\n",
       "CartScreenAppear            3734\n",
       "PaymentScreenSuccessful     3539\n",
       "Tutorial                     840"
      ]
     },
     "execution_count": 23,
     "metadata": {},
     "output_type": "execute_result"
    }
   ],
   "source": [
    "# Узнаем сколько пользователей совершают каждое событие\n",
    "event_data = data.groupby('event_name').agg({'user_id':'nunique'}).sort_values(by='user_id', ascending=False)\n",
    "event_data"
   ]
  },
  {
   "cell_type": "code",
   "execution_count": 24,
   "metadata": {},
   "outputs": [
    {
     "data": {
      "text/html": [
       "<div>\n",
       "<style scoped>\n",
       "    .dataframe tbody tr th:only-of-type {\n",
       "        vertical-align: middle;\n",
       "    }\n",
       "\n",
       "    .dataframe tbody tr th {\n",
       "        vertical-align: top;\n",
       "    }\n",
       "\n",
       "    .dataframe thead th {\n",
       "        text-align: right;\n",
       "    }\n",
       "</style>\n",
       "<table border=\"1\" class=\"dataframe\">\n",
       "  <thead>\n",
       "    <tr style=\"text-align: right;\">\n",
       "      <th></th>\n",
       "      <th>user_id</th>\n",
       "      <th>per</th>\n",
       "    </tr>\n",
       "    <tr>\n",
       "      <th>event_name</th>\n",
       "      <th></th>\n",
       "      <th></th>\n",
       "    </tr>\n",
       "  </thead>\n",
       "  <tbody>\n",
       "    <tr>\n",
       "      <th>MainScreenAppear</th>\n",
       "      <td>7419</td>\n",
       "      <td>98.47</td>\n",
       "    </tr>\n",
       "    <tr>\n",
       "      <th>OffersScreenAppear</th>\n",
       "      <td>4593</td>\n",
       "      <td>60.96</td>\n",
       "    </tr>\n",
       "    <tr>\n",
       "      <th>CartScreenAppear</th>\n",
       "      <td>3734</td>\n",
       "      <td>49.56</td>\n",
       "    </tr>\n",
       "    <tr>\n",
       "      <th>PaymentScreenSuccessful</th>\n",
       "      <td>3539</td>\n",
       "      <td>46.97</td>\n",
       "    </tr>\n",
       "    <tr>\n",
       "      <th>Tutorial</th>\n",
       "      <td>840</td>\n",
       "      <td>11.15</td>\n",
       "    </tr>\n",
       "  </tbody>\n",
       "</table>\n",
       "</div>"
      ],
      "text/plain": [
       "                         user_id    per\n",
       "event_name                             \n",
       "MainScreenAppear            7419  98.47\n",
       "OffersScreenAppear          4593  60.96\n",
       "CartScreenAppear            3734  49.56\n",
       "PaymentScreenSuccessful     3539  46.97\n",
       "Tutorial                     840  11.15"
      ]
     },
     "execution_count": 24,
     "metadata": {},
     "output_type": "execute_result"
    }
   ],
   "source": [
    "# Посчитаем какой процент пользователей совершает каждое действие\n",
    "event_data['per'] = round(event_data['user_id']/data['user_id'].nunique()*100, 2)\n",
    "event_data"
   ]
  },
  {
   "cell_type": "markdown",
   "metadata": {},
   "source": [
    "В последовательность событий не входит \"Tutorial\", уберем его из данных"
   ]
  },
  {
   "cell_type": "code",
   "execution_count": 25,
   "metadata": {},
   "outputs": [
    {
     "data": {
      "text/html": [
       "<div>\n",
       "<style scoped>\n",
       "    .dataframe tbody tr th:only-of-type {\n",
       "        vertical-align: middle;\n",
       "    }\n",
       "\n",
       "    .dataframe tbody tr th {\n",
       "        vertical-align: top;\n",
       "    }\n",
       "\n",
       "    .dataframe thead th {\n",
       "        text-align: right;\n",
       "    }\n",
       "</style>\n",
       "<table border=\"1\" class=\"dataframe\">\n",
       "  <thead>\n",
       "    <tr style=\"text-align: right;\">\n",
       "      <th></th>\n",
       "      <th>user_id</th>\n",
       "      <th>per</th>\n",
       "    </tr>\n",
       "    <tr>\n",
       "      <th>event_name</th>\n",
       "      <th></th>\n",
       "      <th></th>\n",
       "    </tr>\n",
       "  </thead>\n",
       "  <tbody>\n",
       "    <tr>\n",
       "      <th>MainScreenAppear</th>\n",
       "      <td>7419</td>\n",
       "      <td>98.47</td>\n",
       "    </tr>\n",
       "    <tr>\n",
       "      <th>OffersScreenAppear</th>\n",
       "      <td>4593</td>\n",
       "      <td>60.96</td>\n",
       "    </tr>\n",
       "    <tr>\n",
       "      <th>CartScreenAppear</th>\n",
       "      <td>3734</td>\n",
       "      <td>49.56</td>\n",
       "    </tr>\n",
       "    <tr>\n",
       "      <th>PaymentScreenSuccessful</th>\n",
       "      <td>3539</td>\n",
       "      <td>46.97</td>\n",
       "    </tr>\n",
       "  </tbody>\n",
       "</table>\n",
       "</div>"
      ],
      "text/plain": [
       "                         user_id    per\n",
       "event_name                             \n",
       "MainScreenAppear            7419  98.47\n",
       "OffersScreenAppear          4593  60.96\n",
       "CartScreenAppear            3734  49.56\n",
       "PaymentScreenSuccessful     3539  46.97"
      ]
     },
     "execution_count": 25,
     "metadata": {},
     "output_type": "execute_result"
    }
   ],
   "source": [
    "# Уберем из данных событие \"Tutorial\"\n",
    "funnel = event_data.query('event_name != \"Tutorial\"')\n",
    "funnel"
   ]
  },
  {
   "cell_type": "code",
   "execution_count": 26,
   "metadata": {},
   "outputs": [
    {
     "name": "stderr",
     "output_type": "stream",
     "text": [
      "/tmp/ipykernel_48/429736076.py:2: SettingWithCopyWarning: \n",
      "A value is trying to be set on a copy of a slice from a DataFrame.\n",
      "Try using .loc[row_indexer,col_indexer] = value instead\n",
      "\n",
      "See the caveats in the documentation: https://pandas.pydata.org/pandas-docs/stable/user_guide/indexing.html#returning-a-view-versus-a-copy\n",
      "  funnel['shift'] = funnel['user_id'].shift(1, fill_value = funnel['user_id'].loc[funnel.index[0]])\n"
     ]
    },
    {
     "data": {
      "text/html": [
       "<div>\n",
       "<style scoped>\n",
       "    .dataframe tbody tr th:only-of-type {\n",
       "        vertical-align: middle;\n",
       "    }\n",
       "\n",
       "    .dataframe tbody tr th {\n",
       "        vertical-align: top;\n",
       "    }\n",
       "\n",
       "    .dataframe thead th {\n",
       "        text-align: right;\n",
       "    }\n",
       "</style>\n",
       "<table border=\"1\" class=\"dataframe\">\n",
       "  <thead>\n",
       "    <tr style=\"text-align: right;\">\n",
       "      <th></th>\n",
       "      <th>user_id</th>\n",
       "      <th>per</th>\n",
       "      <th>shift</th>\n",
       "    </tr>\n",
       "    <tr>\n",
       "      <th>event_name</th>\n",
       "      <th></th>\n",
       "      <th></th>\n",
       "      <th></th>\n",
       "    </tr>\n",
       "  </thead>\n",
       "  <tbody>\n",
       "    <tr>\n",
       "      <th>MainScreenAppear</th>\n",
       "      <td>7419</td>\n",
       "      <td>98.47</td>\n",
       "      <td>7419</td>\n",
       "    </tr>\n",
       "    <tr>\n",
       "      <th>OffersScreenAppear</th>\n",
       "      <td>4593</td>\n",
       "      <td>60.96</td>\n",
       "      <td>7419</td>\n",
       "    </tr>\n",
       "    <tr>\n",
       "      <th>CartScreenAppear</th>\n",
       "      <td>3734</td>\n",
       "      <td>49.56</td>\n",
       "      <td>4593</td>\n",
       "    </tr>\n",
       "    <tr>\n",
       "      <th>PaymentScreenSuccessful</th>\n",
       "      <td>3539</td>\n",
       "      <td>46.97</td>\n",
       "      <td>3734</td>\n",
       "    </tr>\n",
       "  </tbody>\n",
       "</table>\n",
       "</div>"
      ],
      "text/plain": [
       "                         user_id    per  shift\n",
       "event_name                                    \n",
       "MainScreenAppear            7419  98.47   7419\n",
       "OffersScreenAppear          4593  60.96   7419\n",
       "CartScreenAppear            3734  49.56   4593\n",
       "PaymentScreenSuccessful     3539  46.97   3734"
      ]
     },
     "execution_count": 26,
     "metadata": {},
     "output_type": "execute_result"
    }
   ],
   "source": [
    "# Сдвинем данные о количестве пользователей для дальнейшего расчета конверсии\n",
    "funnel['shift'] = funnel['user_id'].shift(1, fill_value = funnel['user_id'].loc[funnel.index[0]])\n",
    "funnel"
   ]
  },
  {
   "cell_type": "code",
   "execution_count": 27,
   "metadata": {},
   "outputs": [
    {
     "name": "stderr",
     "output_type": "stream",
     "text": [
      "/tmp/ipykernel_48/2074240145.py:2: SettingWithCopyWarning: \n",
      "A value is trying to be set on a copy of a slice from a DataFrame.\n",
      "Try using .loc[row_indexer,col_indexer] = value instead\n",
      "\n",
      "See the caveats in the documentation: https://pandas.pydata.org/pandas-docs/stable/user_guide/indexing.html#returning-a-view-versus-a-copy\n",
      "  funnel['conversion'] = round(funnel['user_id']/funnel['shift']*100, 2)\n"
     ]
    },
    {
     "data": {
      "text/html": [
       "<div>\n",
       "<style scoped>\n",
       "    .dataframe tbody tr th:only-of-type {\n",
       "        vertical-align: middle;\n",
       "    }\n",
       "\n",
       "    .dataframe tbody tr th {\n",
       "        vertical-align: top;\n",
       "    }\n",
       "\n",
       "    .dataframe thead th {\n",
       "        text-align: right;\n",
       "    }\n",
       "</style>\n",
       "<table border=\"1\" class=\"dataframe\">\n",
       "  <thead>\n",
       "    <tr style=\"text-align: right;\">\n",
       "      <th></th>\n",
       "      <th>user_id</th>\n",
       "      <th>conversion</th>\n",
       "    </tr>\n",
       "    <tr>\n",
       "      <th>event_name</th>\n",
       "      <th></th>\n",
       "      <th></th>\n",
       "    </tr>\n",
       "  </thead>\n",
       "  <tbody>\n",
       "    <tr>\n",
       "      <th>MainScreenAppear</th>\n",
       "      <td>7419</td>\n",
       "      <td>100.00</td>\n",
       "    </tr>\n",
       "    <tr>\n",
       "      <th>OffersScreenAppear</th>\n",
       "      <td>4593</td>\n",
       "      <td>61.91</td>\n",
       "    </tr>\n",
       "    <tr>\n",
       "      <th>CartScreenAppear</th>\n",
       "      <td>3734</td>\n",
       "      <td>81.30</td>\n",
       "    </tr>\n",
       "    <tr>\n",
       "      <th>PaymentScreenSuccessful</th>\n",
       "      <td>3539</td>\n",
       "      <td>94.78</td>\n",
       "    </tr>\n",
       "  </tbody>\n",
       "</table>\n",
       "</div>"
      ],
      "text/plain": [
       "                         user_id  conversion\n",
       "event_name                                  \n",
       "MainScreenAppear            7419      100.00\n",
       "OffersScreenAppear          4593       61.91\n",
       "CartScreenAppear            3734       81.30\n",
       "PaymentScreenSuccessful     3539       94.78"
      ]
     },
     "execution_count": 27,
     "metadata": {},
     "output_type": "execute_result"
    }
   ],
   "source": [
    "# Посчитем конверсию каждого события\n",
    "funnel['conversion'] = round(funnel['user_id']/funnel['shift']*100, 2)\n",
    "funnel[['user_id','conversion']]"
   ]
  },
  {
   "cell_type": "markdown",
   "metadata": {},
   "source": [
    "Больше всего пользователей теряются после первого события, почти 40%."
   ]
  },
  {
   "cell_type": "code",
   "execution_count": 42,
   "metadata": {},
   "outputs": [
    {
     "data": {
      "application/vnd.plotly.v1+json": {
       "config": {
        "plotlyServerURL": "https://plot.ly"
       },
       "data": [
        {
         "type": "funnel",
         "x": [
          7419,
          4593,
          3734,
          3539
         ],
         "y": [
          "MainScreenAppear",
          "OffersScreenAppear",
          "CartScreenAppear",
          "PaymentScreenSuccessful"
         ]
        }
       ],
       "layout": {
        "template": {
         "data": {
          "bar": [
           {
            "error_x": {
             "color": "#2a3f5f"
            },
            "error_y": {
             "color": "#2a3f5f"
            },
            "marker": {
             "line": {
              "color": "#E5ECF6",
              "width": 0.5
             },
             "pattern": {
              "fillmode": "overlay",
              "size": 10,
              "solidity": 0.2
             }
            },
            "type": "bar"
           }
          ],
          "barpolar": [
           {
            "marker": {
             "line": {
              "color": "#E5ECF6",
              "width": 0.5
             },
             "pattern": {
              "fillmode": "overlay",
              "size": 10,
              "solidity": 0.2
             }
            },
            "type": "barpolar"
           }
          ],
          "carpet": [
           {
            "aaxis": {
             "endlinecolor": "#2a3f5f",
             "gridcolor": "white",
             "linecolor": "white",
             "minorgridcolor": "white",
             "startlinecolor": "#2a3f5f"
            },
            "baxis": {
             "endlinecolor": "#2a3f5f",
             "gridcolor": "white",
             "linecolor": "white",
             "minorgridcolor": "white",
             "startlinecolor": "#2a3f5f"
            },
            "type": "carpet"
           }
          ],
          "choropleth": [
           {
            "colorbar": {
             "outlinewidth": 0,
             "ticks": ""
            },
            "type": "choropleth"
           }
          ],
          "contour": [
           {
            "colorbar": {
             "outlinewidth": 0,
             "ticks": ""
            },
            "colorscale": [
             [
              0,
              "#0d0887"
             ],
             [
              0.1111111111111111,
              "#46039f"
             ],
             [
              0.2222222222222222,
              "#7201a8"
             ],
             [
              0.3333333333333333,
              "#9c179e"
             ],
             [
              0.4444444444444444,
              "#bd3786"
             ],
             [
              0.5555555555555556,
              "#d8576b"
             ],
             [
              0.6666666666666666,
              "#ed7953"
             ],
             [
              0.7777777777777778,
              "#fb9f3a"
             ],
             [
              0.8888888888888888,
              "#fdca26"
             ],
             [
              1,
              "#f0f921"
             ]
            ],
            "type": "contour"
           }
          ],
          "contourcarpet": [
           {
            "colorbar": {
             "outlinewidth": 0,
             "ticks": ""
            },
            "type": "contourcarpet"
           }
          ],
          "heatmap": [
           {
            "colorbar": {
             "outlinewidth": 0,
             "ticks": ""
            },
            "colorscale": [
             [
              0,
              "#0d0887"
             ],
             [
              0.1111111111111111,
              "#46039f"
             ],
             [
              0.2222222222222222,
              "#7201a8"
             ],
             [
              0.3333333333333333,
              "#9c179e"
             ],
             [
              0.4444444444444444,
              "#bd3786"
             ],
             [
              0.5555555555555556,
              "#d8576b"
             ],
             [
              0.6666666666666666,
              "#ed7953"
             ],
             [
              0.7777777777777778,
              "#fb9f3a"
             ],
             [
              0.8888888888888888,
              "#fdca26"
             ],
             [
              1,
              "#f0f921"
             ]
            ],
            "type": "heatmap"
           }
          ],
          "heatmapgl": [
           {
            "colorbar": {
             "outlinewidth": 0,
             "ticks": ""
            },
            "colorscale": [
             [
              0,
              "#0d0887"
             ],
             [
              0.1111111111111111,
              "#46039f"
             ],
             [
              0.2222222222222222,
              "#7201a8"
             ],
             [
              0.3333333333333333,
              "#9c179e"
             ],
             [
              0.4444444444444444,
              "#bd3786"
             ],
             [
              0.5555555555555556,
              "#d8576b"
             ],
             [
              0.6666666666666666,
              "#ed7953"
             ],
             [
              0.7777777777777778,
              "#fb9f3a"
             ],
             [
              0.8888888888888888,
              "#fdca26"
             ],
             [
              1,
              "#f0f921"
             ]
            ],
            "type": "heatmapgl"
           }
          ],
          "histogram": [
           {
            "marker": {
             "pattern": {
              "fillmode": "overlay",
              "size": 10,
              "solidity": 0.2
             }
            },
            "type": "histogram"
           }
          ],
          "histogram2d": [
           {
            "colorbar": {
             "outlinewidth": 0,
             "ticks": ""
            },
            "colorscale": [
             [
              0,
              "#0d0887"
             ],
             [
              0.1111111111111111,
              "#46039f"
             ],
             [
              0.2222222222222222,
              "#7201a8"
             ],
             [
              0.3333333333333333,
              "#9c179e"
             ],
             [
              0.4444444444444444,
              "#bd3786"
             ],
             [
              0.5555555555555556,
              "#d8576b"
             ],
             [
              0.6666666666666666,
              "#ed7953"
             ],
             [
              0.7777777777777778,
              "#fb9f3a"
             ],
             [
              0.8888888888888888,
              "#fdca26"
             ],
             [
              1,
              "#f0f921"
             ]
            ],
            "type": "histogram2d"
           }
          ],
          "histogram2dcontour": [
           {
            "colorbar": {
             "outlinewidth": 0,
             "ticks": ""
            },
            "colorscale": [
             [
              0,
              "#0d0887"
             ],
             [
              0.1111111111111111,
              "#46039f"
             ],
             [
              0.2222222222222222,
              "#7201a8"
             ],
             [
              0.3333333333333333,
              "#9c179e"
             ],
             [
              0.4444444444444444,
              "#bd3786"
             ],
             [
              0.5555555555555556,
              "#d8576b"
             ],
             [
              0.6666666666666666,
              "#ed7953"
             ],
             [
              0.7777777777777778,
              "#fb9f3a"
             ],
             [
              0.8888888888888888,
              "#fdca26"
             ],
             [
              1,
              "#f0f921"
             ]
            ],
            "type": "histogram2dcontour"
           }
          ],
          "mesh3d": [
           {
            "colorbar": {
             "outlinewidth": 0,
             "ticks": ""
            },
            "type": "mesh3d"
           }
          ],
          "parcoords": [
           {
            "line": {
             "colorbar": {
              "outlinewidth": 0,
              "ticks": ""
             }
            },
            "type": "parcoords"
           }
          ],
          "pie": [
           {
            "automargin": true,
            "type": "pie"
           }
          ],
          "scatter": [
           {
            "marker": {
             "colorbar": {
              "outlinewidth": 0,
              "ticks": ""
             }
            },
            "type": "scatter"
           }
          ],
          "scatter3d": [
           {
            "line": {
             "colorbar": {
              "outlinewidth": 0,
              "ticks": ""
             }
            },
            "marker": {
             "colorbar": {
              "outlinewidth": 0,
              "ticks": ""
             }
            },
            "type": "scatter3d"
           }
          ],
          "scattercarpet": [
           {
            "marker": {
             "colorbar": {
              "outlinewidth": 0,
              "ticks": ""
             }
            },
            "type": "scattercarpet"
           }
          ],
          "scattergeo": [
           {
            "marker": {
             "colorbar": {
              "outlinewidth": 0,
              "ticks": ""
             }
            },
            "type": "scattergeo"
           }
          ],
          "scattergl": [
           {
            "marker": {
             "colorbar": {
              "outlinewidth": 0,
              "ticks": ""
             }
            },
            "type": "scattergl"
           }
          ],
          "scattermapbox": [
           {
            "marker": {
             "colorbar": {
              "outlinewidth": 0,
              "ticks": ""
             }
            },
            "type": "scattermapbox"
           }
          ],
          "scatterpolar": [
           {
            "marker": {
             "colorbar": {
              "outlinewidth": 0,
              "ticks": ""
             }
            },
            "type": "scatterpolar"
           }
          ],
          "scatterpolargl": [
           {
            "marker": {
             "colorbar": {
              "outlinewidth": 0,
              "ticks": ""
             }
            },
            "type": "scatterpolargl"
           }
          ],
          "scatterternary": [
           {
            "marker": {
             "colorbar": {
              "outlinewidth": 0,
              "ticks": ""
             }
            },
            "type": "scatterternary"
           }
          ],
          "surface": [
           {
            "colorbar": {
             "outlinewidth": 0,
             "ticks": ""
            },
            "colorscale": [
             [
              0,
              "#0d0887"
             ],
             [
              0.1111111111111111,
              "#46039f"
             ],
             [
              0.2222222222222222,
              "#7201a8"
             ],
             [
              0.3333333333333333,
              "#9c179e"
             ],
             [
              0.4444444444444444,
              "#bd3786"
             ],
             [
              0.5555555555555556,
              "#d8576b"
             ],
             [
              0.6666666666666666,
              "#ed7953"
             ],
             [
              0.7777777777777778,
              "#fb9f3a"
             ],
             [
              0.8888888888888888,
              "#fdca26"
             ],
             [
              1,
              "#f0f921"
             ]
            ],
            "type": "surface"
           }
          ],
          "table": [
           {
            "cells": {
             "fill": {
              "color": "#EBF0F8"
             },
             "line": {
              "color": "white"
             }
            },
            "header": {
             "fill": {
              "color": "#C8D4E3"
             },
             "line": {
              "color": "white"
             }
            },
            "type": "table"
           }
          ]
         },
         "layout": {
          "annotationdefaults": {
           "arrowcolor": "#2a3f5f",
           "arrowhead": 0,
           "arrowwidth": 1
          },
          "autotypenumbers": "strict",
          "coloraxis": {
           "colorbar": {
            "outlinewidth": 0,
            "ticks": ""
           }
          },
          "colorscale": {
           "diverging": [
            [
             0,
             "#8e0152"
            ],
            [
             0.1,
             "#c51b7d"
            ],
            [
             0.2,
             "#de77ae"
            ],
            [
             0.3,
             "#f1b6da"
            ],
            [
             0.4,
             "#fde0ef"
            ],
            [
             0.5,
             "#f7f7f7"
            ],
            [
             0.6,
             "#e6f5d0"
            ],
            [
             0.7,
             "#b8e186"
            ],
            [
             0.8,
             "#7fbc41"
            ],
            [
             0.9,
             "#4d9221"
            ],
            [
             1,
             "#276419"
            ]
           ],
           "sequential": [
            [
             0,
             "#0d0887"
            ],
            [
             0.1111111111111111,
             "#46039f"
            ],
            [
             0.2222222222222222,
             "#7201a8"
            ],
            [
             0.3333333333333333,
             "#9c179e"
            ],
            [
             0.4444444444444444,
             "#bd3786"
            ],
            [
             0.5555555555555556,
             "#d8576b"
            ],
            [
             0.6666666666666666,
             "#ed7953"
            ],
            [
             0.7777777777777778,
             "#fb9f3a"
            ],
            [
             0.8888888888888888,
             "#fdca26"
            ],
            [
             1,
             "#f0f921"
            ]
           ],
           "sequentialminus": [
            [
             0,
             "#0d0887"
            ],
            [
             0.1111111111111111,
             "#46039f"
            ],
            [
             0.2222222222222222,
             "#7201a8"
            ],
            [
             0.3333333333333333,
             "#9c179e"
            ],
            [
             0.4444444444444444,
             "#bd3786"
            ],
            [
             0.5555555555555556,
             "#d8576b"
            ],
            [
             0.6666666666666666,
             "#ed7953"
            ],
            [
             0.7777777777777778,
             "#fb9f3a"
            ],
            [
             0.8888888888888888,
             "#fdca26"
            ],
            [
             1,
             "#f0f921"
            ]
           ]
          },
          "colorway": [
           "#636efa",
           "#EF553B",
           "#00cc96",
           "#ab63fa",
           "#FFA15A",
           "#19d3f3",
           "#FF6692",
           "#B6E880",
           "#FF97FF",
           "#FECB52"
          ],
          "font": {
           "color": "#2a3f5f"
          },
          "geo": {
           "bgcolor": "white",
           "lakecolor": "white",
           "landcolor": "#E5ECF6",
           "showlakes": true,
           "showland": true,
           "subunitcolor": "white"
          },
          "hoverlabel": {
           "align": "left"
          },
          "hovermode": "closest",
          "mapbox": {
           "style": "light"
          },
          "paper_bgcolor": "white",
          "plot_bgcolor": "#E5ECF6",
          "polar": {
           "angularaxis": {
            "gridcolor": "white",
            "linecolor": "white",
            "ticks": ""
           },
           "bgcolor": "#E5ECF6",
           "radialaxis": {
            "gridcolor": "white",
            "linecolor": "white",
            "ticks": ""
           }
          },
          "scene": {
           "xaxis": {
            "backgroundcolor": "#E5ECF6",
            "gridcolor": "white",
            "gridwidth": 2,
            "linecolor": "white",
            "showbackground": true,
            "ticks": "",
            "zerolinecolor": "white"
           },
           "yaxis": {
            "backgroundcolor": "#E5ECF6",
            "gridcolor": "white",
            "gridwidth": 2,
            "linecolor": "white",
            "showbackground": true,
            "ticks": "",
            "zerolinecolor": "white"
           },
           "zaxis": {
            "backgroundcolor": "#E5ECF6",
            "gridcolor": "white",
            "gridwidth": 2,
            "linecolor": "white",
            "showbackground": true,
            "ticks": "",
            "zerolinecolor": "white"
           }
          },
          "shapedefaults": {
           "line": {
            "color": "#2a3f5f"
           }
          },
          "ternary": {
           "aaxis": {
            "gridcolor": "white",
            "linecolor": "white",
            "ticks": ""
           },
           "baxis": {
            "gridcolor": "white",
            "linecolor": "white",
            "ticks": ""
           },
           "bgcolor": "#E5ECF6",
           "caxis": {
            "gridcolor": "white",
            "linecolor": "white",
            "ticks": ""
           }
          },
          "title": {
           "x": 0.05
          },
          "xaxis": {
           "automargin": true,
           "gridcolor": "white",
           "linecolor": "white",
           "ticks": "",
           "title": {
            "standoff": 15
           },
           "zerolinecolor": "white",
           "zerolinewidth": 2
          },
          "yaxis": {
           "automargin": true,
           "gridcolor": "white",
           "linecolor": "white",
           "ticks": "",
           "title": {
            "standoff": 15
           },
           "zerolinecolor": "white",
           "zerolinewidth": 2
          }
         }
        },
        "title": {
         "text": "Воронка",
         "x": 0.5
        }
       }
      },
      "text/html": [
       "<div>                            <div id=\"219edbde-ba53-4ab7-92b2-69b9a8c16e96\" class=\"plotly-graph-div\" style=\"height:525px; width:100%;\"></div>            <script type=\"text/javascript\">                require([\"plotly\"], function(Plotly) {                    window.PLOTLYENV=window.PLOTLYENV || {};                                    if (document.getElementById(\"219edbde-ba53-4ab7-92b2-69b9a8c16e96\")) {                    Plotly.newPlot(                        \"219edbde-ba53-4ab7-92b2-69b9a8c16e96\",                        [{\"x\":[7419,4593,3734,3539],\"y\":[\"MainScreenAppear\",\"OffersScreenAppear\",\"CartScreenAppear\",\"PaymentScreenSuccessful\"],\"type\":\"funnel\"}],                        {\"template\":{\"data\":{\"bar\":[{\"error_x\":{\"color\":\"#2a3f5f\"},\"error_y\":{\"color\":\"#2a3f5f\"},\"marker\":{\"line\":{\"color\":\"#E5ECF6\",\"width\":0.5},\"pattern\":{\"fillmode\":\"overlay\",\"size\":10,\"solidity\":0.2}},\"type\":\"bar\"}],\"barpolar\":[{\"marker\":{\"line\":{\"color\":\"#E5ECF6\",\"width\":0.5},\"pattern\":{\"fillmode\":\"overlay\",\"size\":10,\"solidity\":0.2}},\"type\":\"barpolar\"}],\"carpet\":[{\"aaxis\":{\"endlinecolor\":\"#2a3f5f\",\"gridcolor\":\"white\",\"linecolor\":\"white\",\"minorgridcolor\":\"white\",\"startlinecolor\":\"#2a3f5f\"},\"baxis\":{\"endlinecolor\":\"#2a3f5f\",\"gridcolor\":\"white\",\"linecolor\":\"white\",\"minorgridcolor\":\"white\",\"startlinecolor\":\"#2a3f5f\"},\"type\":\"carpet\"}],\"choropleth\":[{\"colorbar\":{\"outlinewidth\":0,\"ticks\":\"\"},\"type\":\"choropleth\"}],\"contour\":[{\"colorbar\":{\"outlinewidth\":0,\"ticks\":\"\"},\"colorscale\":[[0.0,\"#0d0887\"],[0.1111111111111111,\"#46039f\"],[0.2222222222222222,\"#7201a8\"],[0.3333333333333333,\"#9c179e\"],[0.4444444444444444,\"#bd3786\"],[0.5555555555555556,\"#d8576b\"],[0.6666666666666666,\"#ed7953\"],[0.7777777777777778,\"#fb9f3a\"],[0.8888888888888888,\"#fdca26\"],[1.0,\"#f0f921\"]],\"type\":\"contour\"}],\"contourcarpet\":[{\"colorbar\":{\"outlinewidth\":0,\"ticks\":\"\"},\"type\":\"contourcarpet\"}],\"heatmap\":[{\"colorbar\":{\"outlinewidth\":0,\"ticks\":\"\"},\"colorscale\":[[0.0,\"#0d0887\"],[0.1111111111111111,\"#46039f\"],[0.2222222222222222,\"#7201a8\"],[0.3333333333333333,\"#9c179e\"],[0.4444444444444444,\"#bd3786\"],[0.5555555555555556,\"#d8576b\"],[0.6666666666666666,\"#ed7953\"],[0.7777777777777778,\"#fb9f3a\"],[0.8888888888888888,\"#fdca26\"],[1.0,\"#f0f921\"]],\"type\":\"heatmap\"}],\"heatmapgl\":[{\"colorbar\":{\"outlinewidth\":0,\"ticks\":\"\"},\"colorscale\":[[0.0,\"#0d0887\"],[0.1111111111111111,\"#46039f\"],[0.2222222222222222,\"#7201a8\"],[0.3333333333333333,\"#9c179e\"],[0.4444444444444444,\"#bd3786\"],[0.5555555555555556,\"#d8576b\"],[0.6666666666666666,\"#ed7953\"],[0.7777777777777778,\"#fb9f3a\"],[0.8888888888888888,\"#fdca26\"],[1.0,\"#f0f921\"]],\"type\":\"heatmapgl\"}],\"histogram\":[{\"marker\":{\"pattern\":{\"fillmode\":\"overlay\",\"size\":10,\"solidity\":0.2}},\"type\":\"histogram\"}],\"histogram2d\":[{\"colorbar\":{\"outlinewidth\":0,\"ticks\":\"\"},\"colorscale\":[[0.0,\"#0d0887\"],[0.1111111111111111,\"#46039f\"],[0.2222222222222222,\"#7201a8\"],[0.3333333333333333,\"#9c179e\"],[0.4444444444444444,\"#bd3786\"],[0.5555555555555556,\"#d8576b\"],[0.6666666666666666,\"#ed7953\"],[0.7777777777777778,\"#fb9f3a\"],[0.8888888888888888,\"#fdca26\"],[1.0,\"#f0f921\"]],\"type\":\"histogram2d\"}],\"histogram2dcontour\":[{\"colorbar\":{\"outlinewidth\":0,\"ticks\":\"\"},\"colorscale\":[[0.0,\"#0d0887\"],[0.1111111111111111,\"#46039f\"],[0.2222222222222222,\"#7201a8\"],[0.3333333333333333,\"#9c179e\"],[0.4444444444444444,\"#bd3786\"],[0.5555555555555556,\"#d8576b\"],[0.6666666666666666,\"#ed7953\"],[0.7777777777777778,\"#fb9f3a\"],[0.8888888888888888,\"#fdca26\"],[1.0,\"#f0f921\"]],\"type\":\"histogram2dcontour\"}],\"mesh3d\":[{\"colorbar\":{\"outlinewidth\":0,\"ticks\":\"\"},\"type\":\"mesh3d\"}],\"parcoords\":[{\"line\":{\"colorbar\":{\"outlinewidth\":0,\"ticks\":\"\"}},\"type\":\"parcoords\"}],\"pie\":[{\"automargin\":true,\"type\":\"pie\"}],\"scatter\":[{\"marker\":{\"colorbar\":{\"outlinewidth\":0,\"ticks\":\"\"}},\"type\":\"scatter\"}],\"scatter3d\":[{\"line\":{\"colorbar\":{\"outlinewidth\":0,\"ticks\":\"\"}},\"marker\":{\"colorbar\":{\"outlinewidth\":0,\"ticks\":\"\"}},\"type\":\"scatter3d\"}],\"scattercarpet\":[{\"marker\":{\"colorbar\":{\"outlinewidth\":0,\"ticks\":\"\"}},\"type\":\"scattercarpet\"}],\"scattergeo\":[{\"marker\":{\"colorbar\":{\"outlinewidth\":0,\"ticks\":\"\"}},\"type\":\"scattergeo\"}],\"scattergl\":[{\"marker\":{\"colorbar\":{\"outlinewidth\":0,\"ticks\":\"\"}},\"type\":\"scattergl\"}],\"scattermapbox\":[{\"marker\":{\"colorbar\":{\"outlinewidth\":0,\"ticks\":\"\"}},\"type\":\"scattermapbox\"}],\"scatterpolar\":[{\"marker\":{\"colorbar\":{\"outlinewidth\":0,\"ticks\":\"\"}},\"type\":\"scatterpolar\"}],\"scatterpolargl\":[{\"marker\":{\"colorbar\":{\"outlinewidth\":0,\"ticks\":\"\"}},\"type\":\"scatterpolargl\"}],\"scatterternary\":[{\"marker\":{\"colorbar\":{\"outlinewidth\":0,\"ticks\":\"\"}},\"type\":\"scatterternary\"}],\"surface\":[{\"colorbar\":{\"outlinewidth\":0,\"ticks\":\"\"},\"colorscale\":[[0.0,\"#0d0887\"],[0.1111111111111111,\"#46039f\"],[0.2222222222222222,\"#7201a8\"],[0.3333333333333333,\"#9c179e\"],[0.4444444444444444,\"#bd3786\"],[0.5555555555555556,\"#d8576b\"],[0.6666666666666666,\"#ed7953\"],[0.7777777777777778,\"#fb9f3a\"],[0.8888888888888888,\"#fdca26\"],[1.0,\"#f0f921\"]],\"type\":\"surface\"}],\"table\":[{\"cells\":{\"fill\":{\"color\":\"#EBF0F8\"},\"line\":{\"color\":\"white\"}},\"header\":{\"fill\":{\"color\":\"#C8D4E3\"},\"line\":{\"color\":\"white\"}},\"type\":\"table\"}]},\"layout\":{\"annotationdefaults\":{\"arrowcolor\":\"#2a3f5f\",\"arrowhead\":0,\"arrowwidth\":1},\"autotypenumbers\":\"strict\",\"coloraxis\":{\"colorbar\":{\"outlinewidth\":0,\"ticks\":\"\"}},\"colorscale\":{\"diverging\":[[0,\"#8e0152\"],[0.1,\"#c51b7d\"],[0.2,\"#de77ae\"],[0.3,\"#f1b6da\"],[0.4,\"#fde0ef\"],[0.5,\"#f7f7f7\"],[0.6,\"#e6f5d0\"],[0.7,\"#b8e186\"],[0.8,\"#7fbc41\"],[0.9,\"#4d9221\"],[1,\"#276419\"]],\"sequential\":[[0.0,\"#0d0887\"],[0.1111111111111111,\"#46039f\"],[0.2222222222222222,\"#7201a8\"],[0.3333333333333333,\"#9c179e\"],[0.4444444444444444,\"#bd3786\"],[0.5555555555555556,\"#d8576b\"],[0.6666666666666666,\"#ed7953\"],[0.7777777777777778,\"#fb9f3a\"],[0.8888888888888888,\"#fdca26\"],[1.0,\"#f0f921\"]],\"sequentialminus\":[[0.0,\"#0d0887\"],[0.1111111111111111,\"#46039f\"],[0.2222222222222222,\"#7201a8\"],[0.3333333333333333,\"#9c179e\"],[0.4444444444444444,\"#bd3786\"],[0.5555555555555556,\"#d8576b\"],[0.6666666666666666,\"#ed7953\"],[0.7777777777777778,\"#fb9f3a\"],[0.8888888888888888,\"#fdca26\"],[1.0,\"#f0f921\"]]},\"colorway\":[\"#636efa\",\"#EF553B\",\"#00cc96\",\"#ab63fa\",\"#FFA15A\",\"#19d3f3\",\"#FF6692\",\"#B6E880\",\"#FF97FF\",\"#FECB52\"],\"font\":{\"color\":\"#2a3f5f\"},\"geo\":{\"bgcolor\":\"white\",\"lakecolor\":\"white\",\"landcolor\":\"#E5ECF6\",\"showlakes\":true,\"showland\":true,\"subunitcolor\":\"white\"},\"hoverlabel\":{\"align\":\"left\"},\"hovermode\":\"closest\",\"mapbox\":{\"style\":\"light\"},\"paper_bgcolor\":\"white\",\"plot_bgcolor\":\"#E5ECF6\",\"polar\":{\"angularaxis\":{\"gridcolor\":\"white\",\"linecolor\":\"white\",\"ticks\":\"\"},\"bgcolor\":\"#E5ECF6\",\"radialaxis\":{\"gridcolor\":\"white\",\"linecolor\":\"white\",\"ticks\":\"\"}},\"scene\":{\"xaxis\":{\"backgroundcolor\":\"#E5ECF6\",\"gridcolor\":\"white\",\"gridwidth\":2,\"linecolor\":\"white\",\"showbackground\":true,\"ticks\":\"\",\"zerolinecolor\":\"white\"},\"yaxis\":{\"backgroundcolor\":\"#E5ECF6\",\"gridcolor\":\"white\",\"gridwidth\":2,\"linecolor\":\"white\",\"showbackground\":true,\"ticks\":\"\",\"zerolinecolor\":\"white\"},\"zaxis\":{\"backgroundcolor\":\"#E5ECF6\",\"gridcolor\":\"white\",\"gridwidth\":2,\"linecolor\":\"white\",\"showbackground\":true,\"ticks\":\"\",\"zerolinecolor\":\"white\"}},\"shapedefaults\":{\"line\":{\"color\":\"#2a3f5f\"}},\"ternary\":{\"aaxis\":{\"gridcolor\":\"white\",\"linecolor\":\"white\",\"ticks\":\"\"},\"baxis\":{\"gridcolor\":\"white\",\"linecolor\":\"white\",\"ticks\":\"\"},\"bgcolor\":\"#E5ECF6\",\"caxis\":{\"gridcolor\":\"white\",\"linecolor\":\"white\",\"ticks\":\"\"}},\"title\":{\"x\":0.05},\"xaxis\":{\"automargin\":true,\"gridcolor\":\"white\",\"linecolor\":\"white\",\"ticks\":\"\",\"title\":{\"standoff\":15},\"zerolinecolor\":\"white\",\"zerolinewidth\":2},\"yaxis\":{\"automargin\":true,\"gridcolor\":\"white\",\"linecolor\":\"white\",\"ticks\":\"\",\"title\":{\"standoff\":15},\"zerolinecolor\":\"white\",\"zerolinewidth\":2}}},\"title\":{\"text\":\"\\u0412\\u043e\\u0440\\u043e\\u043d\\u043a\\u0430\",\"x\":0.5}},                        {\"responsive\": true}                    ).then(function(){\n",
       "                            \n",
       "var gd = document.getElementById('219edbde-ba53-4ab7-92b2-69b9a8c16e96');\n",
       "var x = new MutationObserver(function (mutations, observer) {{\n",
       "        var display = window.getComputedStyle(gd).display;\n",
       "        if (!display || display === 'none') {{\n",
       "            console.log([gd, 'removed!']);\n",
       "            Plotly.purge(gd);\n",
       "            observer.disconnect();\n",
       "        }}\n",
       "}});\n",
       "\n",
       "// Listen for the removal of the full notebook cells\n",
       "var notebookContainer = gd.closest('#notebook-container');\n",
       "if (notebookContainer) {{\n",
       "    x.observe(notebookContainer, {childList: true});\n",
       "}}\n",
       "\n",
       "// Listen for the clearing of the current output cell\n",
       "var outputEl = gd.closest('.output');\n",
       "if (outputEl) {{\n",
       "    x.observe(outputEl, {childList: true});\n",
       "}}\n",
       "\n",
       "                        })                };                });            </script>        </div>"
      ]
     },
     "metadata": {},
     "output_type": "display_data"
    }
   ],
   "source": [
    "# Построим воронку\n",
    "fig = go.Figure(go.Funnel(\n",
    "    y =  funnel.index,\n",
    "    x = funnel['user_id'],\n",
    "    ))\n",
    "fig.update_layout(title='Воронка', title_x = 0.5)\n",
    "fig.show()"
   ]
  },
  {
   "cell_type": "code",
   "execution_count": 43,
   "metadata": {},
   "outputs": [
    {
     "data": {
      "text/plain": [
       "47.7"
      ]
     },
     "execution_count": 43,
     "metadata": {},
     "output_type": "execute_result"
    }
   ],
   "source": [
    "# Посчитаем какой процент пользователей доходит до покупки\n",
    "round(funnel['user_id'].loc[funnel.index[-1]]/funnel['user_id'].loc[funnel.index[0]]*100, 2)"
   ]
  },
  {
   "cell_type": "markdown",
   "metadata": {},
   "source": [
    "Пользователей, которые сделали покупку 47,7%"
   ]
  },
  {
   "cell_type": "markdown",
   "metadata": {},
   "source": [
    "## Анализ результатов А/А/В-теста"
   ]
  },
  {
   "cell_type": "code",
   "execution_count": 31,
   "metadata": {},
   "outputs": [
    {
     "data": {
      "text/plain": [
       "2484"
      ]
     },
     "metadata": {},
     "output_type": "display_data"
    },
    {
     "data": {
      "text/plain": [
       "2513"
      ]
     },
     "metadata": {},
     "output_type": "display_data"
    },
    {
     "data": {
      "text/plain": [
       "2537"
      ]
     },
     "execution_count": 31,
     "metadata": {},
     "output_type": "execute_result"
    }
   ],
   "source": [
    "# Проверим количесвто пользователей в каждой группе\n",
    "display(len(gr246['user_id'].unique()))\n",
    "display(len(gr247['user_id'].unique()))\n",
    "len(gr248['user_id'].unique())"
   ]
  },
  {
   "cell_type": "markdown",
   "metadata": {},
   "source": [
    "В каждой группе приблизительно равное количество пользователей."
   ]
  },
  {
   "cell_type": "markdown",
   "metadata": {},
   "source": [
    "### Проверим статистическую разницу между двумя контрольными группами"
   ]
  },
  {
   "cell_type": "markdown",
   "metadata": {},
   "source": [
    "Гипотезы:\n",
    "\n",
    "H0:Между групп статистической значимой разницы нет, поведение групп не отличается;\n",
    "\n",
    "H1:Между групп статистическая значимая разница есть, поведение групп отличается."
   ]
  },
  {
   "cell_type": "code",
   "execution_count": 32,
   "metadata": {},
   "outputs": [],
   "source": [
    "gr246 = gr246.query('group == 246 & event_name != \"Tutorail\"')\n",
    "gr247 = gr247.query('group == 247 & event_name != \"Tutorail\"')\n",
    "gr248 = gr248.query('group == 248 & event_name != \"Tutorail\"')"
   ]
  },
  {
   "cell_type": "code",
   "execution_count": 33,
   "metadata": {},
   "outputs": [],
   "source": [
    "#напишем функцию теста статистических различий между группами\n",
    "def test(gr1, gr2, event_name, alpha):\n",
    "    \n",
    "    #количсетво уникальных пользователей совершивших событие в каждой группе \n",
    "    users_event = np.array([gr1[gr1['event_name'] == event_name]['user_id'].nunique(), gr2[gr2['event_name'] == event_name]['user_id'].nunique()])\n",
    "        \n",
    "    #количество уникальных пользователей в группах\n",
    "    users_group = np.array([gr1['user_id'].nunique(), gr2['user_id'].nunique()])\n",
    "    \n",
    "    # пропорция успехов в первой группе:\n",
    "    p1 = users_event[0]/users_group[0]\n",
    "    # пропорция успехов во второй группе:\n",
    "    p2 = users_event[1]/users_group[1]\n",
    "    \n",
    "    # пропорция успехов в комбинированном датасете:\n",
    "    p_combined = (users_event[0] + users_event[1]) / (users_group[0] + users_group[1])\n",
    "    \n",
    "    # разница пропорций в датасетах\n",
    "    difference = p1 - p2\n",
    "    \n",
    "    # считаем статистику в ст.отклонениях стандартного нормального распределения\n",
    "    z_value = difference / mth.sqrt(p_combined * (1 - p_combined) * (1/users_event[0] + 1/users_event[1]))\n",
    "    \n",
    "    # задаем стандартное нормальное распределение (среднее 0, ст.отклонение 1)\n",
    "    distr = st.norm(0, 1)  \n",
    "    \n",
    "    #Так как распределение статистики нормальное, вызовем метод cdf()\n",
    "    #Саму статистику возьмём по модулю методом abs() — чтобы получить правильный результат независимо от её знака.\n",
    "    #Это возможно, потому что тест двусторонний. По этой же причине удваиваем результат:\n",
    "    p_value = (1 - distr.cdf(abs(z_value))) * 2\n",
    "    \n",
    "    print(event_name)\n",
    "          \n",
    "    print('p-значение: ', p_value)\n",
    "\n",
    "    if p_value < alpha:\n",
    "        print('Отвергаем нулевую гипотезу: между долями есть значимая разница')\n",
    "    else:\n",
    "        print('Не получилось отвергнуть нулевую гипотезу, нет оснований считать доли разными')\n",
    "    print()"
   ]
  },
  {
   "cell_type": "code",
   "execution_count": 34,
   "metadata": {},
   "outputs": [
    {
     "name": "stdout",
     "output_type": "stream",
     "text": [
      "MainScreenAppear\n",
      "p-значение:  0.758737151572354\n",
      "Не получилось отвергнуть нулевую гипотезу, нет оснований считать доли разными\n",
      "\n",
      "OffersScreenAppear\n",
      "p-значение:  0.36593695068605325\n",
      "Не получилось отвергнуть нулевую гипотезу, нет оснований считать доли разными\n",
      "\n",
      "CartScreenAppear\n",
      "p-значение:  0.39432110136773835\n",
      "Не получилось отвергнуть нулевую гипотезу, нет оснований считать доли разными\n",
      "\n",
      "PaymentScreenSuccessful\n",
      "p-значение:  0.2784401253423807\n",
      "Не получилось отвергнуть нулевую гипотезу, нет оснований считать доли разными\n",
      "\n"
     ]
    }
   ],
   "source": [
    "#создадим список с уникальными событиями:\n",
    "event_name_array = funnel.index\n",
    "#создадим цикл, который будет подставлять в функцию уникальные значения собитый:\n",
    "for event_name in event_name_array:\n",
    "    test(gr246, gr247, event_name, 0.05)"
   ]
  },
  {
   "cell_type": "code",
   "execution_count": 35,
   "metadata": {},
   "outputs": [
    {
     "name": "stdout",
     "output_type": "stream",
     "text": [
      "MainScreenAppear\n",
      "p-значение:  0.2987450335656847\n",
      "Не получилось отвергнуть нулевую гипотезу, нет оснований считать доли разными\n",
      "\n",
      "OffersScreenAppear\n",
      "p-значение:  0.32498018019986397\n",
      "Не получилось отвергнуть нулевую гипотезу, нет оснований считать доли разными\n",
      "\n",
      "CartScreenAppear\n",
      "p-значение:  0.21469452387393084\n",
      "Не получилось отвергнуть нулевую гипотезу, нет оснований считать доли разными\n",
      "\n",
      "PaymentScreenSuccessful\n",
      "p-значение:  0.3903369220965023\n",
      "Не получилось отвергнуть нулевую гипотезу, нет оснований считать доли разными\n",
      "\n"
     ]
    }
   ],
   "source": [
    "# Проверим контрольную группу 246 с группой с изменным шрифтом 248\n",
    "for event_name in event_name_array:\n",
    "    test(gr246, gr248, event_name, 0.05)"
   ]
  },
  {
   "cell_type": "code",
   "execution_count": 36,
   "metadata": {},
   "outputs": [
    {
     "name": "stdout",
     "output_type": "stream",
     "text": [
      "MainScreenAppear\n",
      "p-значение:  0.4623286535354567\n",
      "Не получилось отвергнуть нулевую гипотезу, нет оснований считать доли разными\n",
      "\n",
      "OffersScreenAppear\n",
      "p-значение:  0.9376062948315385\n",
      "Не получилось отвергнуть нулевую гипотезу, нет оснований считать доли разными\n",
      "\n",
      "CartScreenAppear\n",
      "p-значение:  0.6978142226496611\n",
      "Не получилось отвергнуть нулевую гипотезу, нет оснований считать доли разными\n",
      "\n",
      "PaymentScreenSuccessful\n",
      "p-значение:  0.8194623261229845\n",
      "Не получилось отвергнуть нулевую гипотезу, нет оснований считать доли разными\n",
      "\n"
     ]
    }
   ],
   "source": [
    "for event_name in event_name_array:\n",
    "    test(gr247, gr248, event_name, 0.05)"
   ]
  },
  {
   "cell_type": "code",
   "execution_count": 37,
   "metadata": {},
   "outputs": [
    {
     "name": "stdout",
     "output_type": "stream",
     "text": [
      "MainScreenAppear\n",
      "p-значение:  0.2982116211407275\n",
      "Не получилось отвергнуть нулевую гипотезу, нет оснований считать доли разными\n",
      "\n",
      "OffersScreenAppear\n",
      "p-значение:  0.5425331263544062\n",
      "Не получилось отвергнуть нулевую гипотезу, нет оснований считать доли разными\n",
      "\n",
      "CartScreenAppear\n",
      "p-значение:  0.34982490083868933\n",
      "Не получилось отвергнуть нулевую гипотезу, нет оснований считать доли разными\n",
      "\n",
      "PaymentScreenSuccessful\n",
      "p-значение:  0.7202057779473505\n",
      "Не получилось отвергнуть нулевую гипотезу, нет оснований считать доли разными\n",
      "\n"
     ]
    }
   ],
   "source": [
    "#объеденим группы методом\n",
    "gr246_247 = pd.concat([gr246, gr247])\n",
    "#Проверим объедененную контрольную группу с группой с изменным шрифтом 248\n",
    "for event_name in event_name_array:\n",
    "    test(gr246_247, gr248, event_name, 0.05)"
   ]
  },
  {
   "cell_type": "code",
   "execution_count": 38,
   "metadata": {},
   "outputs": [
    {
     "name": "stdout",
     "output_type": "stream",
     "text": [
      "MainScreenAppear\n",
      "p-значение:  0.758737151572354\n",
      "Не получилось отвергнуть нулевую гипотезу, нет оснований считать доли разными\n",
      "\n",
      "OffersScreenAppear\n",
      "p-значение:  0.36593695068605325\n",
      "Не получилось отвергнуть нулевую гипотезу, нет оснований считать доли разными\n",
      "\n",
      "CartScreenAppear\n",
      "p-значение:  0.39432110136773835\n",
      "Не получилось отвергнуть нулевую гипотезу, нет оснований считать доли разными\n",
      "\n",
      "PaymentScreenSuccessful\n",
      "p-значение:  0.2784401253423807\n",
      "Не получилось отвергнуть нулевую гипотезу, нет оснований считать доли разными\n",
      "\n"
     ]
    }
   ],
   "source": [
    "for event_name in event_name_array:\n",
    "    test(gr246, gr247, event_name, 0.1)"
   ]
  },
  {
   "cell_type": "code",
   "execution_count": 39,
   "metadata": {},
   "outputs": [
    {
     "name": "stdout",
     "output_type": "stream",
     "text": [
      "MainScreenAppear\n",
      "p-значение:  0.2987450335656847\n",
      "Не получилось отвергнуть нулевую гипотезу, нет оснований считать доли разными\n",
      "\n",
      "OffersScreenAppear\n",
      "p-значение:  0.32498018019986397\n",
      "Не получилось отвергнуть нулевую гипотезу, нет оснований считать доли разными\n",
      "\n",
      "CartScreenAppear\n",
      "p-значение:  0.21469452387393084\n",
      "Не получилось отвергнуть нулевую гипотезу, нет оснований считать доли разными\n",
      "\n",
      "PaymentScreenSuccessful\n",
      "p-значение:  0.3903369220965023\n",
      "Не получилось отвергнуть нулевую гипотезу, нет оснований считать доли разными\n",
      "\n"
     ]
    }
   ],
   "source": [
    "for event_name in event_name_array:\n",
    "    test(gr246, gr248, event_name, 0.1)"
   ]
  },
  {
   "cell_type": "code",
   "execution_count": 40,
   "metadata": {},
   "outputs": [
    {
     "name": "stdout",
     "output_type": "stream",
     "text": [
      "MainScreenAppear\n",
      "p-значение:  0.4623286535354567\n",
      "Не получилось отвергнуть нулевую гипотезу, нет оснований считать доли разными\n",
      "\n",
      "OffersScreenAppear\n",
      "p-значение:  0.9376062948315385\n",
      "Не получилось отвергнуть нулевую гипотезу, нет оснований считать доли разными\n",
      "\n",
      "CartScreenAppear\n",
      "p-значение:  0.6978142226496611\n",
      "Не получилось отвергнуть нулевую гипотезу, нет оснований считать доли разными\n",
      "\n",
      "PaymentScreenSuccessful\n",
      "p-значение:  0.8194623261229845\n",
      "Не получилось отвергнуть нулевую гипотезу, нет оснований считать доли разными\n",
      "\n"
     ]
    }
   ],
   "source": [
    "for event_name in event_name_array:\n",
    "    test(gr247, gr248, event_name, 0.1)"
   ]
  },
  {
   "cell_type": "code",
   "execution_count": 41,
   "metadata": {},
   "outputs": [
    {
     "name": "stdout",
     "output_type": "stream",
     "text": [
      "MainScreenAppear\n",
      "p-значение:  0.2982116211407275\n",
      "Не получилось отвергнуть нулевую гипотезу, нет оснований считать доли разными\n",
      "\n",
      "OffersScreenAppear\n",
      "p-значение:  0.5425331263544062\n",
      "Не получилось отвергнуть нулевую гипотезу, нет оснований считать доли разными\n",
      "\n",
      "CartScreenAppear\n",
      "p-значение:  0.34982490083868933\n",
      "Не получилось отвергнуть нулевую гипотезу, нет оснований считать доли разными\n",
      "\n",
      "PaymentScreenSuccessful\n",
      "p-значение:  0.7202057779473505\n",
      "Не получилось отвергнуть нулевую гипотезу, нет оснований считать доли разными\n",
      "\n"
     ]
    }
   ],
   "source": [
    "# Код ревьюера\n",
    "#объеденим группы методом\n",
    "gr246_247 = pd.concat([gr246, gr247])\n",
    "#Проверим объедененную контрольную группу с группой с изменным шрифтом 248\n",
    "for event_name in event_name_array:\n",
    "    test(gr246_247, gr248, event_name, 0.1)"
   ]
  },
  {
   "cell_type": "markdown",
   "metadata": {},
   "source": [
    "# Вывод\n",
    "В ходе выполнения работы были составлена воронка событий, выяснено, что меньше половины пользователей (48%) доходят от первого до последнего события. Больше всего пользователей отсекаются после первого события, около 40 процентов.\n",
    "\n",
    "При проверке статистических гипотез с уровнем значимости равному 0,05 не было выявлено значимых различий, при уровне 0,1 так же различий не выявляется.\n",
    "\n",
    "Исходя из результатов A/A/B-эксперимента, мы можем судить, что на поведение пользователей изменение шрифта значимого эффекта не оказало."
   ]
  }
 ],
 "metadata": {
  "ExecuteTimeLog": [
   {
    "duration": 1448,
    "start_time": "2024-07-04T18:20:04.768Z"
   },
   {
    "duration": 470,
    "start_time": "2024-07-04T18:20:49.234Z"
   },
   {
    "duration": 30,
    "start_time": "2024-07-04T18:21:40.370Z"
   },
   {
    "duration": 218,
    "start_time": "2024-07-04T18:22:06.450Z"
   },
   {
    "duration": 37,
    "start_time": "2024-07-04T18:22:07.299Z"
   },
   {
    "duration": 3,
    "start_time": "2024-07-04T18:24:20.823Z"
   },
   {
    "duration": 4,
    "start_time": "2024-07-04T18:25:17.147Z"
   },
   {
    "duration": 56,
    "start_time": "2024-07-04T18:26:11.079Z"
   },
   {
    "duration": 64,
    "start_time": "2024-07-04T18:29:43.508Z"
   },
   {
    "duration": 83,
    "start_time": "2024-07-04T18:30:39.169Z"
   },
   {
    "duration": 3,
    "start_time": "2024-07-04T18:30:59.116Z"
   },
   {
    "duration": 106,
    "start_time": "2024-07-04T18:32:52.876Z"
   },
   {
    "duration": 39,
    "start_time": "2024-07-04T18:33:14.552Z"
   },
   {
    "duration": 29,
    "start_time": "2024-07-04T18:33:26.657Z"
   },
   {
    "duration": 19,
    "start_time": "2024-07-04T18:34:42.344Z"
   },
   {
    "duration": 30,
    "start_time": "2024-07-04T18:34:45.287Z"
   },
   {
    "duration": 1264,
    "start_time": "2024-07-04T18:34:58.823Z"
   },
   {
    "duration": 196,
    "start_time": "2024-07-04T18:35:00.089Z"
   },
   {
    "duration": 33,
    "start_time": "2024-07-04T18:35:00.287Z"
   },
   {
    "duration": 154,
    "start_time": "2024-07-04T18:35:00.322Z"
   },
   {
    "duration": 100,
    "start_time": "2024-07-04T18:35:00.478Z"
   },
   {
    "duration": 97,
    "start_time": "2024-07-04T18:35:00.580Z"
   },
   {
    "duration": 8,
    "start_time": "2024-07-04T18:35:00.679Z"
   },
   {
    "duration": 29,
    "start_time": "2024-07-04T18:35:15.261Z"
   },
   {
    "duration": 1230,
    "start_time": "2024-07-05T07:52:00.606Z"
   },
   {
    "duration": 773,
    "start_time": "2024-07-05T07:52:01.837Z"
   },
   {
    "duration": 24,
    "start_time": "2024-07-05T07:52:02.611Z"
   },
   {
    "duration": 2,
    "start_time": "2024-07-05T07:52:02.637Z"
   },
   {
    "duration": 58,
    "start_time": "2024-07-05T07:52:02.641Z"
   },
   {
    "duration": 67,
    "start_time": "2024-07-05T07:52:02.700Z"
   },
   {
    "duration": 6,
    "start_time": "2024-07-05T07:52:02.768Z"
   },
   {
    "duration": 58,
    "start_time": "2024-07-05T07:52:02.775Z"
   },
   {
    "duration": 24,
    "start_time": "2024-07-05T07:52:15.478Z"
   },
   {
    "duration": 89,
    "start_time": "2024-07-05T07:52:35.342Z"
   },
   {
    "duration": 17,
    "start_time": "2024-07-05T07:52:36.408Z"
   },
   {
    "duration": 8,
    "start_time": "2024-07-05T07:52:52.636Z"
   },
   {
    "duration": 995,
    "start_time": "2024-07-05T07:53:35.117Z"
   },
   {
    "duration": 143,
    "start_time": "2024-07-05T07:53:36.113Z"
   },
   {
    "duration": 24,
    "start_time": "2024-07-05T07:53:36.258Z"
   },
   {
    "duration": 2,
    "start_time": "2024-07-05T07:53:36.284Z"
   },
   {
    "duration": 59,
    "start_time": "2024-07-05T07:53:36.287Z"
   },
   {
    "duration": 79,
    "start_time": "2024-07-05T07:53:36.347Z"
   },
   {
    "duration": 6,
    "start_time": "2024-07-05T07:53:36.427Z"
   },
   {
    "duration": 110,
    "start_time": "2024-07-05T07:53:36.434Z"
   },
   {
    "duration": 16,
    "start_time": "2024-07-05T07:53:36.545Z"
   },
   {
    "duration": 7,
    "start_time": "2024-07-05T07:53:36.570Z"
   },
   {
    "duration": 45,
    "start_time": "2024-07-05T07:56:25.877Z"
   },
   {
    "duration": 10,
    "start_time": "2024-07-05T07:57:06.701Z"
   },
   {
    "duration": 32,
    "start_time": "2024-07-05T07:59:00.682Z"
   },
   {
    "duration": 26,
    "start_time": "2024-07-05T07:59:18.675Z"
   },
   {
    "duration": 24,
    "start_time": "2024-07-05T08:00:28.808Z"
   },
   {
    "duration": 8,
    "start_time": "2024-07-05T08:51:16.520Z"
   },
   {
    "duration": 226,
    "start_time": "2024-07-05T08:51:37.140Z"
   },
   {
    "duration": 151,
    "start_time": "2024-07-05T08:52:04.426Z"
   },
   {
    "duration": 194,
    "start_time": "2024-07-05T08:55:41.267Z"
   },
   {
    "duration": 233,
    "start_time": "2024-07-05T08:55:53.263Z"
   },
   {
    "duration": 152,
    "start_time": "2024-07-05T08:56:04.584Z"
   },
   {
    "duration": 211,
    "start_time": "2024-07-05T08:56:14.197Z"
   },
   {
    "duration": 27,
    "start_time": "2024-07-05T08:57:03.926Z"
   },
   {
    "duration": 106,
    "start_time": "2024-07-05T08:57:56.619Z"
   },
   {
    "duration": 1057,
    "start_time": "2024-07-05T08:58:49.872Z"
   },
   {
    "duration": 141,
    "start_time": "2024-07-05T08:58:50.930Z"
   },
   {
    "duration": 25,
    "start_time": "2024-07-05T08:58:51.072Z"
   },
   {
    "duration": 3,
    "start_time": "2024-07-05T08:58:51.099Z"
   },
   {
    "duration": 84,
    "start_time": "2024-07-05T08:58:51.104Z"
   },
   {
    "duration": 91,
    "start_time": "2024-07-05T08:58:51.189Z"
   },
   {
    "duration": 7,
    "start_time": "2024-07-05T08:58:51.281Z"
   },
   {
    "duration": 123,
    "start_time": "2024-07-05T08:58:51.289Z"
   },
   {
    "duration": 18,
    "start_time": "2024-07-05T08:58:51.413Z"
   },
   {
    "duration": 6,
    "start_time": "2024-07-05T08:58:51.434Z"
   },
   {
    "duration": 62,
    "start_time": "2024-07-05T08:58:51.442Z"
   },
   {
    "duration": 7,
    "start_time": "2024-07-05T08:58:51.505Z"
   },
   {
    "duration": 33,
    "start_time": "2024-07-05T08:58:51.514Z"
   },
   {
    "duration": 6,
    "start_time": "2024-07-05T08:58:51.549Z"
   },
   {
    "duration": 289,
    "start_time": "2024-07-05T08:58:51.556Z"
   },
   {
    "duration": 112,
    "start_time": "2024-07-05T08:58:51.846Z"
   },
   {
    "duration": 175,
    "start_time": "2024-07-05T08:59:00.471Z"
   },
   {
    "duration": 15,
    "start_time": "2024-07-05T08:59:19.501Z"
   },
   {
    "duration": 121,
    "start_time": "2024-07-05T09:01:41.628Z"
   },
   {
    "duration": 115,
    "start_time": "2024-07-05T09:01:51.123Z"
   },
   {
    "duration": 105,
    "start_time": "2024-07-05T09:02:01.819Z"
   },
   {
    "duration": 14,
    "start_time": "2024-07-05T09:03:07.380Z"
   },
   {
    "duration": 21,
    "start_time": "2024-07-05T09:03:41.311Z"
   },
   {
    "duration": 3,
    "start_time": "2024-07-05T09:03:57.333Z"
   },
   {
    "duration": 3,
    "start_time": "2024-07-05T09:04:08.569Z"
   },
   {
    "duration": 3,
    "start_time": "2024-07-05T09:04:21.521Z"
   },
   {
    "duration": 5,
    "start_time": "2024-07-05T09:04:46.451Z"
   },
   {
    "duration": 4,
    "start_time": "2024-07-05T09:41:44.660Z"
   },
   {
    "duration": 4,
    "start_time": "2024-07-05T09:43:18.681Z"
   },
   {
    "duration": 4,
    "start_time": "2024-07-05T09:43:39.858Z"
   },
   {
    "duration": 3,
    "start_time": "2024-07-05T09:43:42.206Z"
   },
   {
    "duration": 5,
    "start_time": "2024-07-05T09:44:11.693Z"
   },
   {
    "duration": 8,
    "start_time": "2024-07-05T09:44:40.186Z"
   },
   {
    "duration": 14,
    "start_time": "2024-07-05T09:44:44.919Z"
   },
   {
    "duration": 6,
    "start_time": "2024-07-05T09:45:04.145Z"
   },
   {
    "duration": 21,
    "start_time": "2024-07-05T09:46:36.245Z"
   },
   {
    "duration": 5,
    "start_time": "2024-07-05T09:46:38.451Z"
   },
   {
    "duration": 15,
    "start_time": "2024-07-05T09:46:41.623Z"
   },
   {
    "duration": 13,
    "start_time": "2024-07-05T09:46:46.703Z"
   },
   {
    "duration": 14,
    "start_time": "2024-07-05T09:46:48.875Z"
   },
   {
    "duration": 15,
    "start_time": "2024-07-05T09:47:05.379Z"
   },
   {
    "duration": 10,
    "start_time": "2024-07-05T09:51:21.069Z"
   },
   {
    "duration": 28,
    "start_time": "2024-07-05T09:54:21.488Z"
   },
   {
    "duration": 31,
    "start_time": "2024-07-05T09:54:37.611Z"
   },
   {
    "duration": 26,
    "start_time": "2024-07-05T09:54:48.271Z"
   },
   {
    "duration": 23,
    "start_time": "2024-07-05T09:55:25.554Z"
   },
   {
    "duration": 48,
    "start_time": "2024-07-05T09:56:40.564Z"
   },
   {
    "duration": 45,
    "start_time": "2024-07-05T09:57:56.092Z"
   },
   {
    "duration": 48,
    "start_time": "2024-07-05T09:58:03.435Z"
   },
   {
    "duration": 10,
    "start_time": "2024-07-05T09:59:16.528Z"
   },
   {
    "duration": 10,
    "start_time": "2024-07-05T09:59:38.595Z"
   },
   {
    "duration": 5,
    "start_time": "2024-07-05T10:55:54.759Z"
   },
   {
    "duration": 11,
    "start_time": "2024-07-05T11:05:46.025Z"
   },
   {
    "duration": 76,
    "start_time": "2024-07-05T11:06:39.096Z"
   },
   {
    "duration": 5,
    "start_time": "2024-07-05T11:07:08.051Z"
   },
   {
    "duration": 10,
    "start_time": "2024-07-05T11:07:12.996Z"
   },
   {
    "duration": 3,
    "start_time": "2024-07-05T11:12:09.523Z"
   },
   {
    "duration": 7,
    "start_time": "2024-07-05T11:12:16.459Z"
   },
   {
    "duration": 7,
    "start_time": "2024-07-05T11:14:31.359Z"
   },
   {
    "duration": 8,
    "start_time": "2024-07-05T11:15:09.701Z"
   },
   {
    "duration": 831,
    "start_time": "2024-07-05T11:16:42.824Z"
   },
   {
    "duration": 896,
    "start_time": "2024-07-05T11:17:14.993Z"
   },
   {
    "duration": 1214,
    "start_time": "2024-07-05T11:17:34.614Z"
   },
   {
    "duration": 913,
    "start_time": "2024-07-05T11:19:26.451Z"
   },
   {
    "duration": 4,
    "start_time": "2024-07-05T11:19:35.447Z"
   },
   {
    "duration": 4,
    "start_time": "2024-07-05T11:19:46.431Z"
   },
   {
    "duration": 4,
    "start_time": "2024-07-05T11:19:53.892Z"
   },
   {
    "duration": 6,
    "start_time": "2024-07-05T11:21:13.765Z"
   },
   {
    "duration": 17,
    "start_time": "2024-07-05T11:23:16.691Z"
   },
   {
    "duration": 9,
    "start_time": "2024-07-05T11:23:17.594Z"
   },
   {
    "duration": 1213,
    "start_time": "2024-07-05T11:23:18.922Z"
   },
   {
    "duration": 1316,
    "start_time": "2024-07-05T11:23:20.136Z"
   },
   {
    "duration": 1305,
    "start_time": "2024-07-05T11:23:21.454Z"
   },
   {
    "duration": 4,
    "start_time": "2024-07-05T11:23:54.883Z"
   },
   {
    "duration": 8,
    "start_time": "2024-07-05T11:24:08.183Z"
   },
   {
    "duration": 5,
    "start_time": "2024-07-05T13:12:13.305Z"
   },
   {
    "duration": 24,
    "start_time": "2024-07-05T13:12:33.772Z"
   },
   {
    "duration": 22,
    "start_time": "2024-07-05T13:12:50.723Z"
   },
   {
    "duration": 79,
    "start_time": "2024-07-05T13:13:08.076Z"
   },
   {
    "duration": 69,
    "start_time": "2024-07-05T13:13:59.961Z"
   },
   {
    "duration": 24,
    "start_time": "2024-07-05T13:15:18.717Z"
   },
   {
    "duration": 1062,
    "start_time": "2024-07-05T13:16:06.757Z"
   },
   {
    "duration": 138,
    "start_time": "2024-07-05T13:16:07.821Z"
   },
   {
    "duration": 27,
    "start_time": "2024-07-05T13:16:07.961Z"
   },
   {
    "duration": 3,
    "start_time": "2024-07-05T13:16:07.990Z"
   },
   {
    "duration": 68,
    "start_time": "2024-07-05T13:16:07.994Z"
   },
   {
    "duration": 70,
    "start_time": "2024-07-05T13:16:08.063Z"
   },
   {
    "duration": 6,
    "start_time": "2024-07-05T13:16:08.134Z"
   },
   {
    "duration": 96,
    "start_time": "2024-07-05T13:16:08.141Z"
   },
   {
    "duration": 16,
    "start_time": "2024-07-05T13:16:08.239Z"
   },
   {
    "duration": 15,
    "start_time": "2024-07-05T13:16:08.257Z"
   },
   {
    "duration": 71,
    "start_time": "2024-07-05T13:16:08.273Z"
   },
   {
    "duration": 8,
    "start_time": "2024-07-05T13:16:08.345Z"
   },
   {
    "duration": 87,
    "start_time": "2024-07-05T13:16:08.354Z"
   },
   {
    "duration": 7,
    "start_time": "2024-07-05T13:16:08.443Z"
   },
   {
    "duration": 256,
    "start_time": "2024-07-05T13:16:08.452Z"
   },
   {
    "duration": 18,
    "start_time": "2024-07-05T13:16:08.710Z"
   },
   {
    "duration": 25,
    "start_time": "2024-07-05T13:16:08.729Z"
   },
   {
    "duration": 20,
    "start_time": "2024-07-05T13:16:08.755Z"
   },
   {
    "duration": 1218,
    "start_time": "2024-07-05T13:16:08.776Z"
   },
   {
    "duration": 1299,
    "start_time": "2024-07-05T13:16:09.996Z"
   },
   {
    "duration": 1303,
    "start_time": "2024-07-05T13:16:11.297Z"
   },
   {
    "duration": 28,
    "start_time": "2024-07-05T13:16:12.601Z"
   },
   {
    "duration": 56,
    "start_time": "2024-07-05T13:16:12.630Z"
   },
   {
    "duration": 9,
    "start_time": "2024-07-05T13:16:12.687Z"
   },
   {
    "duration": 12,
    "start_time": "2024-07-05T13:16:12.697Z"
   },
   {
    "duration": 116,
    "start_time": "2024-07-05T13:16:12.711Z"
   },
   {
    "duration": 0,
    "start_time": "2024-07-05T13:16:12.828Z"
   },
   {
    "duration": 0,
    "start_time": "2024-07-05T13:16:12.829Z"
   },
   {
    "duration": 0,
    "start_time": "2024-07-05T13:16:12.830Z"
   },
   {
    "duration": 0,
    "start_time": "2024-07-05T13:16:12.831Z"
   },
   {
    "duration": 0,
    "start_time": "2024-07-05T13:16:12.833Z"
   },
   {
    "duration": 0,
    "start_time": "2024-07-05T13:16:12.833Z"
   },
   {
    "duration": 0,
    "start_time": "2024-07-05T13:16:12.834Z"
   },
   {
    "duration": 31,
    "start_time": "2024-07-05T13:17:33.539Z"
   },
   {
    "duration": 22,
    "start_time": "2024-07-05T13:17:47.663Z"
   },
   {
    "duration": 5,
    "start_time": "2024-07-05T13:17:50.655Z"
   },
   {
    "duration": 82,
    "start_time": "2024-07-05T13:17:52.158Z"
   },
   {
    "duration": 75,
    "start_time": "2024-07-05T13:17:55.792Z"
   },
   {
    "duration": 67,
    "start_time": "2024-07-05T13:18:13.724Z"
   },
   {
    "duration": 73,
    "start_time": "2024-07-05T16:35:37.802Z"
   },
   {
    "duration": 1316,
    "start_time": "2024-07-05T16:42:50.204Z"
   },
   {
    "duration": 836,
    "start_time": "2024-07-05T16:42:51.524Z"
   },
   {
    "duration": 29,
    "start_time": "2024-07-05T16:42:52.361Z"
   },
   {
    "duration": 2,
    "start_time": "2024-07-05T16:42:52.392Z"
   },
   {
    "duration": 79,
    "start_time": "2024-07-05T16:42:52.397Z"
   },
   {
    "duration": 84,
    "start_time": "2024-07-05T16:42:52.478Z"
   },
   {
    "duration": 8,
    "start_time": "2024-07-05T16:42:52.563Z"
   },
   {
    "duration": 125,
    "start_time": "2024-07-05T16:42:52.572Z"
   },
   {
    "duration": 47,
    "start_time": "2024-07-05T16:42:52.699Z"
   },
   {
    "duration": 10,
    "start_time": "2024-07-05T16:42:52.748Z"
   },
   {
    "duration": 58,
    "start_time": "2024-07-05T16:42:52.760Z"
   },
   {
    "duration": 10,
    "start_time": "2024-07-05T16:42:52.819Z"
   },
   {
    "duration": 20,
    "start_time": "2024-07-05T16:42:52.831Z"
   },
   {
    "duration": 6,
    "start_time": "2024-07-05T16:42:52.854Z"
   },
   {
    "duration": 324,
    "start_time": "2024-07-05T16:42:52.861Z"
   },
   {
    "duration": 19,
    "start_time": "2024-07-05T16:42:53.186Z"
   },
   {
    "duration": 36,
    "start_time": "2024-07-05T16:42:53.206Z"
   },
   {
    "duration": 8,
    "start_time": "2024-07-05T16:42:53.244Z"
   },
   {
    "duration": 1416,
    "start_time": "2024-07-05T16:42:53.254Z"
   },
   {
    "duration": 1466,
    "start_time": "2024-07-05T16:42:54.671Z"
   },
   {
    "duration": 1535,
    "start_time": "2024-07-05T16:42:56.139Z"
   },
   {
    "duration": 30,
    "start_time": "2024-07-05T16:42:57.676Z"
   },
   {
    "duration": 67,
    "start_time": "2024-07-05T16:42:57.707Z"
   },
   {
    "duration": 11,
    "start_time": "2024-07-05T16:42:57.775Z"
   },
   {
    "duration": 10,
    "start_time": "2024-07-05T16:42:57.787Z"
   },
   {
    "duration": 33,
    "start_time": "2024-07-05T16:42:57.798Z"
   },
   {
    "duration": 11,
    "start_time": "2024-07-05T16:42:57.833Z"
   },
   {
    "duration": 6,
    "start_time": "2024-07-05T16:42:57.845Z"
   },
   {
    "duration": 10,
    "start_time": "2024-07-05T16:42:57.853Z"
   },
   {
    "duration": 55,
    "start_time": "2024-07-05T16:42:57.865Z"
   },
   {
    "duration": 9,
    "start_time": "2024-07-05T16:42:57.922Z"
   },
   {
    "duration": 104,
    "start_time": "2024-07-05T16:42:57.932Z"
   },
   {
    "duration": 86,
    "start_time": "2024-07-05T16:42:58.038Z"
   },
   {
    "duration": 80,
    "start_time": "2024-07-05T16:42:58.125Z"
   },
   {
    "duration": 1174,
    "start_time": "2024-07-05T16:52:41.205Z"
   },
   {
    "duration": 162,
    "start_time": "2024-07-05T16:52:42.381Z"
   },
   {
    "duration": 28,
    "start_time": "2024-07-05T16:52:42.545Z"
   },
   {
    "duration": 3,
    "start_time": "2024-07-05T16:52:42.575Z"
   },
   {
    "duration": 93,
    "start_time": "2024-07-05T16:52:42.579Z"
   },
   {
    "duration": 83,
    "start_time": "2024-07-05T16:52:42.673Z"
   },
   {
    "duration": 7,
    "start_time": "2024-07-05T16:52:42.757Z"
   },
   {
    "duration": 109,
    "start_time": "2024-07-05T16:52:42.765Z"
   },
   {
    "duration": 20,
    "start_time": "2024-07-05T16:52:42.875Z"
   },
   {
    "duration": 24,
    "start_time": "2024-07-05T16:52:42.898Z"
   },
   {
    "duration": 54,
    "start_time": "2024-07-05T16:52:42.924Z"
   },
   {
    "duration": 8,
    "start_time": "2024-07-05T16:52:42.979Z"
   },
   {
    "duration": 47,
    "start_time": "2024-07-05T16:52:42.988Z"
   },
   {
    "duration": 6,
    "start_time": "2024-07-05T16:52:43.040Z"
   },
   {
    "duration": 311,
    "start_time": "2024-07-05T16:52:43.048Z"
   },
   {
    "duration": 19,
    "start_time": "2024-07-05T16:52:43.360Z"
   },
   {
    "duration": 23,
    "start_time": "2024-07-05T16:52:43.381Z"
   },
   {
    "duration": 35,
    "start_time": "2024-07-05T16:52:43.405Z"
   },
   {
    "duration": 1318,
    "start_time": "2024-07-05T16:52:43.441Z"
   },
   {
    "duration": 1431,
    "start_time": "2024-07-05T16:52:44.761Z"
   },
   {
    "duration": 1492,
    "start_time": "2024-07-05T16:52:46.193Z"
   },
   {
    "duration": 36,
    "start_time": "2024-07-05T16:52:47.687Z"
   },
   {
    "duration": 58,
    "start_time": "2024-07-05T16:52:47.725Z"
   },
   {
    "duration": 9,
    "start_time": "2024-07-05T16:52:47.785Z"
   },
   {
    "duration": 13,
    "start_time": "2024-07-05T16:52:47.796Z"
   },
   {
    "duration": 19,
    "start_time": "2024-07-05T16:52:47.810Z"
   },
   {
    "duration": 11,
    "start_time": "2024-07-05T16:52:47.830Z"
   },
   {
    "duration": 5,
    "start_time": "2024-07-05T16:52:47.844Z"
   },
   {
    "duration": 10,
    "start_time": "2024-07-05T16:52:47.851Z"
   },
   {
    "duration": 25,
    "start_time": "2024-07-05T16:52:47.862Z"
   },
   {
    "duration": 39,
    "start_time": "2024-07-05T16:52:47.888Z"
   },
   {
    "duration": 123,
    "start_time": "2024-07-05T16:52:47.929Z"
   },
   {
    "duration": 92,
    "start_time": "2024-07-05T16:52:48.053Z"
   },
   {
    "duration": 78,
    "start_time": "2024-07-05T16:52:48.147Z"
   },
   {
    "duration": 977,
    "start_time": "2024-07-05T16:54:31.141Z"
   },
   {
    "duration": 69,
    "start_time": "2024-07-05T16:55:15.704Z"
   },
   {
    "duration": 72,
    "start_time": "2024-07-05T16:55:26.304Z"
   },
   {
    "duration": 74,
    "start_time": "2024-07-05T16:55:28.275Z"
   },
   {
    "duration": 12,
    "start_time": "2024-07-05T16:58:45.920Z"
   },
   {
    "duration": 123,
    "start_time": "2024-07-05T17:02:59.895Z"
   },
   {
    "duration": 117,
    "start_time": "2024-07-05T17:05:20.058Z"
   },
   {
    "duration": 248,
    "start_time": "2024-07-05T17:05:37.647Z"
   },
   {
    "duration": 108,
    "start_time": "2024-07-05T17:09:25.415Z"
   },
   {
    "duration": 9,
    "start_time": "2024-07-05T17:22:31.834Z"
   },
   {
    "duration": 1163,
    "start_time": "2024-07-05T17:22:45.625Z"
   },
   {
    "duration": 161,
    "start_time": "2024-07-05T17:22:46.790Z"
   },
   {
    "duration": 29,
    "start_time": "2024-07-05T17:22:46.952Z"
   },
   {
    "duration": 3,
    "start_time": "2024-07-05T17:22:46.984Z"
   },
   {
    "duration": 92,
    "start_time": "2024-07-05T17:22:46.989Z"
   },
   {
    "duration": 82,
    "start_time": "2024-07-05T17:22:47.083Z"
   },
   {
    "duration": 7,
    "start_time": "2024-07-05T17:22:47.167Z"
   },
   {
    "duration": 110,
    "start_time": "2024-07-05T17:22:47.176Z"
   },
   {
    "duration": 40,
    "start_time": "2024-07-05T17:22:47.288Z"
   },
   {
    "duration": 12,
    "start_time": "2024-07-05T17:22:47.332Z"
   },
   {
    "duration": 75,
    "start_time": "2024-07-05T17:22:47.346Z"
   },
   {
    "duration": 10,
    "start_time": "2024-07-05T17:22:47.423Z"
   },
   {
    "duration": 22,
    "start_time": "2024-07-05T17:22:47.435Z"
   },
   {
    "duration": 7,
    "start_time": "2024-07-05T17:22:47.458Z"
   },
   {
    "duration": 325,
    "start_time": "2024-07-05T17:22:47.466Z"
   },
   {
    "duration": 28,
    "start_time": "2024-07-05T17:22:47.793Z"
   },
   {
    "duration": 27,
    "start_time": "2024-07-05T17:22:47.823Z"
   },
   {
    "duration": 9,
    "start_time": "2024-07-05T17:22:47.852Z"
   },
   {
    "duration": 1380,
    "start_time": "2024-07-05T17:22:47.862Z"
   },
   {
    "duration": 1454,
    "start_time": "2024-07-05T17:22:49.243Z"
   },
   {
    "duration": 1512,
    "start_time": "2024-07-05T17:22:50.699Z"
   },
   {
    "duration": 37,
    "start_time": "2024-07-05T17:22:52.212Z"
   },
   {
    "duration": 81,
    "start_time": "2024-07-05T17:22:52.250Z"
   },
   {
    "duration": 14,
    "start_time": "2024-07-05T17:22:52.333Z"
   },
   {
    "duration": 8,
    "start_time": "2024-07-05T17:22:52.348Z"
   },
   {
    "duration": 43,
    "start_time": "2024-07-05T17:22:52.357Z"
   },
   {
    "duration": 41,
    "start_time": "2024-07-05T17:22:52.402Z"
   },
   {
    "duration": 124,
    "start_time": "2024-07-05T17:22:52.447Z"
   },
   {
    "duration": 5,
    "start_time": "2024-07-05T17:22:52.572Z"
   },
   {
    "duration": 31,
    "start_time": "2024-07-05T17:22:52.579Z"
   },
   {
    "duration": 28,
    "start_time": "2024-07-05T17:22:52.611Z"
   },
   {
    "duration": 7,
    "start_time": "2024-07-05T17:22:52.640Z"
   },
   {
    "duration": 75,
    "start_time": "2024-07-05T17:22:52.649Z"
   },
   {
    "duration": 68,
    "start_time": "2024-07-05T17:22:52.725Z"
   },
   {
    "duration": 81,
    "start_time": "2024-07-05T17:22:52.794Z"
   },
   {
    "duration": 99,
    "start_time": "2024-07-05T17:22:52.876Z"
   },
   {
    "duration": 65,
    "start_time": "2024-07-05T17:23:44.747Z"
   },
   {
    "duration": 64,
    "start_time": "2024-07-05T17:24:02.333Z"
   },
   {
    "duration": 1337,
    "start_time": "2024-07-05T23:45:40.262Z"
   },
   {
    "duration": 276,
    "start_time": "2024-07-05T23:45:41.601Z"
   },
   {
    "duration": 30,
    "start_time": "2024-07-05T23:45:41.879Z"
   },
   {
    "duration": 3,
    "start_time": "2024-07-05T23:45:41.911Z"
   },
   {
    "duration": 68,
    "start_time": "2024-07-05T23:45:41.915Z"
   },
   {
    "duration": 82,
    "start_time": "2024-07-05T23:45:41.985Z"
   },
   {
    "duration": 7,
    "start_time": "2024-07-05T23:45:42.069Z"
   },
   {
    "duration": 113,
    "start_time": "2024-07-05T23:45:42.078Z"
   },
   {
    "duration": 21,
    "start_time": "2024-07-05T23:45:42.193Z"
   },
   {
    "duration": 56,
    "start_time": "2024-07-05T23:45:42.217Z"
   },
   {
    "duration": 47,
    "start_time": "2024-07-05T23:45:42.275Z"
   },
   {
    "duration": 9,
    "start_time": "2024-07-05T23:45:42.323Z"
   },
   {
    "duration": 38,
    "start_time": "2024-07-05T23:45:42.333Z"
   },
   {
    "duration": 6,
    "start_time": "2024-07-05T23:45:42.373Z"
   },
   {
    "duration": 294,
    "start_time": "2024-07-05T23:45:42.380Z"
   },
   {
    "duration": 18,
    "start_time": "2024-07-05T23:45:42.676Z"
   },
   {
    "duration": 22,
    "start_time": "2024-07-05T23:45:42.696Z"
   },
   {
    "duration": 9,
    "start_time": "2024-07-05T23:45:42.720Z"
   },
   {
    "duration": 1256,
    "start_time": "2024-07-05T23:45:42.730Z"
   },
   {
    "duration": 1352,
    "start_time": "2024-07-05T23:45:43.988Z"
   },
   {
    "duration": 1314,
    "start_time": "2024-07-05T23:45:45.341Z"
   },
   {
    "duration": 29,
    "start_time": "2024-07-05T23:45:46.660Z"
   },
   {
    "duration": 73,
    "start_time": "2024-07-05T23:45:46.690Z"
   },
   {
    "duration": 10,
    "start_time": "2024-07-05T23:45:46.765Z"
   },
   {
    "duration": 8,
    "start_time": "2024-07-05T23:45:46.777Z"
   },
   {
    "duration": 25,
    "start_time": "2024-07-05T23:45:46.786Z"
   },
   {
    "duration": 39,
    "start_time": "2024-07-05T23:45:46.812Z"
   },
   {
    "duration": 120,
    "start_time": "2024-07-05T23:45:46.854Z"
   },
   {
    "duration": 4,
    "start_time": "2024-07-05T23:45:46.975Z"
   },
   {
    "duration": 17,
    "start_time": "2024-07-05T23:45:46.981Z"
   },
   {
    "duration": 30,
    "start_time": "2024-07-05T23:45:46.999Z"
   },
   {
    "duration": 6,
    "start_time": "2024-07-05T23:45:47.031Z"
   },
   {
    "duration": 105,
    "start_time": "2024-07-05T23:45:47.038Z"
   },
   {
    "duration": 77,
    "start_time": "2024-07-05T23:45:47.145Z"
   },
   {
    "duration": 75,
    "start_time": "2024-07-05T23:45:47.224Z"
   },
   {
    "duration": 76,
    "start_time": "2024-07-05T23:45:47.301Z"
   },
   {
    "duration": 66,
    "start_time": "2024-07-05T23:45:47.379Z"
   },
   {
    "duration": 77,
    "start_time": "2024-07-05T23:45:47.446Z"
   },
   {
    "duration": 42,
    "start_time": "2024-07-05T23:49:10.041Z"
   },
   {
    "duration": 1384,
    "start_time": "2024-07-06T07:15:22.336Z"
   },
   {
    "duration": 819,
    "start_time": "2024-07-06T07:15:23.723Z"
   },
   {
    "duration": 32,
    "start_time": "2024-07-06T07:15:24.544Z"
   },
   {
    "duration": 3,
    "start_time": "2024-07-06T07:15:24.578Z"
   },
   {
    "duration": 79,
    "start_time": "2024-07-06T07:15:24.584Z"
   },
   {
    "duration": 79,
    "start_time": "2024-07-06T07:15:24.665Z"
   },
   {
    "duration": 7,
    "start_time": "2024-07-06T07:15:24.746Z"
   },
   {
    "duration": 120,
    "start_time": "2024-07-06T07:15:24.755Z"
   },
   {
    "duration": 27,
    "start_time": "2024-07-06T07:15:24.877Z"
   },
   {
    "duration": 9,
    "start_time": "2024-07-06T07:15:24.905Z"
   },
   {
    "duration": 77,
    "start_time": "2024-07-06T07:15:24.916Z"
   },
   {
    "duration": 9,
    "start_time": "2024-07-06T07:15:24.995Z"
   },
   {
    "duration": 32,
    "start_time": "2024-07-06T07:15:25.005Z"
   },
   {
    "duration": 7,
    "start_time": "2024-07-06T07:15:25.041Z"
   },
   {
    "duration": 354,
    "start_time": "2024-07-06T07:15:25.050Z"
   },
   {
    "duration": 18,
    "start_time": "2024-07-06T07:15:25.406Z"
   },
   {
    "duration": 55,
    "start_time": "2024-07-06T07:15:25.425Z"
   },
   {
    "duration": 57,
    "start_time": "2024-07-06T07:15:25.491Z"
   },
   {
    "duration": 0,
    "start_time": "2024-07-06T07:15:25.550Z"
   },
   {
    "duration": 0,
    "start_time": "2024-07-06T07:15:25.551Z"
   },
   {
    "duration": 1,
    "start_time": "2024-07-06T07:15:25.552Z"
   },
   {
    "duration": 0,
    "start_time": "2024-07-06T07:15:25.554Z"
   },
   {
    "duration": 0,
    "start_time": "2024-07-06T07:15:25.555Z"
   },
   {
    "duration": 0,
    "start_time": "2024-07-06T07:15:25.556Z"
   },
   {
    "duration": 0,
    "start_time": "2024-07-06T07:15:25.557Z"
   },
   {
    "duration": 0,
    "start_time": "2024-07-06T07:15:25.558Z"
   },
   {
    "duration": 0,
    "start_time": "2024-07-06T07:15:25.559Z"
   },
   {
    "duration": 0,
    "start_time": "2024-07-06T07:15:25.560Z"
   },
   {
    "duration": 0,
    "start_time": "2024-07-06T07:15:25.561Z"
   },
   {
    "duration": 0,
    "start_time": "2024-07-06T07:15:25.562Z"
   },
   {
    "duration": 0,
    "start_time": "2024-07-06T07:15:25.564Z"
   },
   {
    "duration": 0,
    "start_time": "2024-07-06T07:15:25.565Z"
   },
   {
    "duration": 0,
    "start_time": "2024-07-06T07:15:25.566Z"
   },
   {
    "duration": 0,
    "start_time": "2024-07-06T07:15:25.567Z"
   },
   {
    "duration": 0,
    "start_time": "2024-07-06T07:15:25.568Z"
   },
   {
    "duration": 0,
    "start_time": "2024-07-06T07:15:25.569Z"
   },
   {
    "duration": 0,
    "start_time": "2024-07-06T07:15:25.570Z"
   },
   {
    "duration": 0,
    "start_time": "2024-07-06T07:15:25.571Z"
   },
   {
    "duration": 0,
    "start_time": "2024-07-06T07:15:25.572Z"
   },
   {
    "duration": 0,
    "start_time": "2024-07-06T07:15:25.574Z"
   },
   {
    "duration": 0,
    "start_time": "2024-07-06T07:15:25.575Z"
   },
   {
    "duration": 108,
    "start_time": "2024-07-06T07:17:11.924Z"
   },
   {
    "duration": 7,
    "start_time": "2024-07-06T07:17:23.756Z"
   },
   {
    "duration": 63,
    "start_time": "2024-07-06T07:17:55.891Z"
   },
   {
    "duration": 8,
    "start_time": "2024-07-06T07:18:08.075Z"
   },
   {
    "duration": 1416,
    "start_time": "2024-07-06T07:19:23.696Z"
   },
   {
    "duration": 219,
    "start_time": "2024-07-06T07:19:25.116Z"
   },
   {
    "duration": 55,
    "start_time": "2024-07-06T07:19:25.337Z"
   },
   {
    "duration": 4,
    "start_time": "2024-07-06T07:19:25.395Z"
   },
   {
    "duration": 84,
    "start_time": "2024-07-06T07:19:25.402Z"
   },
   {
    "duration": 75,
    "start_time": "2024-07-06T07:19:25.491Z"
   },
   {
    "duration": 8,
    "start_time": "2024-07-06T07:19:25.568Z"
   },
   {
    "duration": 127,
    "start_time": "2024-07-06T07:19:25.577Z"
   },
   {
    "duration": 22,
    "start_time": "2024-07-06T07:19:25.706Z"
   },
   {
    "duration": 52,
    "start_time": "2024-07-06T07:19:25.731Z"
   },
   {
    "duration": 55,
    "start_time": "2024-07-06T07:19:25.784Z"
   },
   {
    "duration": 37,
    "start_time": "2024-07-06T07:19:25.841Z"
   },
   {
    "duration": 41,
    "start_time": "2024-07-06T07:19:25.880Z"
   },
   {
    "duration": 7,
    "start_time": "2024-07-06T07:19:25.923Z"
   },
   {
    "duration": 350,
    "start_time": "2024-07-06T07:19:25.932Z"
   },
   {
    "duration": 23,
    "start_time": "2024-07-06T07:19:26.285Z"
   },
   {
    "duration": 52,
    "start_time": "2024-07-06T07:19:26.310Z"
   },
   {
    "duration": 28,
    "start_time": "2024-07-06T07:19:26.364Z"
   },
   {
    "duration": 28,
    "start_time": "2024-07-06T07:19:26.394Z"
   },
   {
    "duration": 13,
    "start_time": "2024-07-06T07:19:26.424Z"
   },
   {
    "duration": 1473,
    "start_time": "2024-07-06T07:19:26.439Z"
   },
   {
    "duration": 1480,
    "start_time": "2024-07-06T07:19:27.914Z"
   },
   {
    "duration": 1528,
    "start_time": "2024-07-06T07:19:29.395Z"
   },
   {
    "duration": 48,
    "start_time": "2024-07-06T07:19:30.925Z"
   },
   {
    "duration": 145,
    "start_time": "2024-07-06T07:19:30.975Z"
   },
   {
    "duration": 163,
    "start_time": "2024-07-06T07:19:31.122Z"
   },
   {
    "duration": 22,
    "start_time": "2024-07-06T07:19:31.286Z"
   },
   {
    "duration": 60,
    "start_time": "2024-07-06T07:19:31.312Z"
   },
   {
    "duration": 55,
    "start_time": "2024-07-06T07:19:31.374Z"
   },
   {
    "duration": 84,
    "start_time": "2024-07-06T07:19:31.430Z"
   },
   {
    "duration": 151,
    "start_time": "2024-07-06T07:19:31.516Z"
   },
   {
    "duration": 4,
    "start_time": "2024-07-06T07:19:31.669Z"
   },
   {
    "duration": 23,
    "start_time": "2024-07-06T07:19:31.675Z"
   },
   {
    "duration": 79,
    "start_time": "2024-07-06T07:19:31.699Z"
   },
   {
    "duration": 7,
    "start_time": "2024-07-06T07:19:31.780Z"
   },
   {
    "duration": 76,
    "start_time": "2024-07-06T07:19:31.788Z"
   },
   {
    "duration": 79,
    "start_time": "2024-07-06T07:19:31.866Z"
   },
   {
    "duration": 91,
    "start_time": "2024-07-06T07:19:31.947Z"
   },
   {
    "duration": 87,
    "start_time": "2024-07-06T07:19:32.040Z"
   },
   {
    "duration": 83,
    "start_time": "2024-07-06T07:19:32.129Z"
   },
   {
    "duration": 68,
    "start_time": "2024-07-06T07:19:32.213Z"
   },
   {
    "duration": 1215,
    "start_time": "2024-07-06T07:21:23.106Z"
   },
   {
    "duration": 186,
    "start_time": "2024-07-06T07:21:24.324Z"
   },
   {
    "duration": 33,
    "start_time": "2024-07-06T07:21:24.512Z"
   },
   {
    "duration": 17,
    "start_time": "2024-07-06T07:21:24.547Z"
   },
   {
    "duration": 115,
    "start_time": "2024-07-06T07:21:24.566Z"
   },
   {
    "duration": 88,
    "start_time": "2024-07-06T07:21:24.683Z"
   },
   {
    "duration": 30,
    "start_time": "2024-07-06T07:21:24.773Z"
   },
   {
    "duration": 237,
    "start_time": "2024-07-06T07:21:24.805Z"
   },
   {
    "duration": 28,
    "start_time": "2024-07-06T07:21:25.044Z"
   },
   {
    "duration": 128,
    "start_time": "2024-07-06T07:21:25.076Z"
   },
   {
    "duration": 155,
    "start_time": "2024-07-06T07:21:25.206Z"
   },
   {
    "duration": 25,
    "start_time": "2024-07-06T07:21:25.363Z"
   },
   {
    "duration": 51,
    "start_time": "2024-07-06T07:21:25.390Z"
   },
   {
    "duration": 8,
    "start_time": "2024-07-06T07:21:25.443Z"
   },
   {
    "duration": 447,
    "start_time": "2024-07-06T07:21:25.452Z"
   },
   {
    "duration": 19,
    "start_time": "2024-07-06T07:21:25.901Z"
   },
   {
    "duration": 72,
    "start_time": "2024-07-06T07:21:25.922Z"
   },
   {
    "duration": 10,
    "start_time": "2024-07-06T07:21:25.996Z"
   },
   {
    "duration": 58,
    "start_time": "2024-07-06T07:21:26.007Z"
   },
   {
    "duration": 13,
    "start_time": "2024-07-06T07:21:26.066Z"
   },
   {
    "duration": 1450,
    "start_time": "2024-07-06T07:21:26.080Z"
   },
   {
    "duration": 1489,
    "start_time": "2024-07-06T07:21:27.531Z"
   },
   {
    "duration": 1489,
    "start_time": "2024-07-06T07:21:29.021Z"
   },
   {
    "duration": 59,
    "start_time": "2024-07-06T07:21:30.512Z"
   },
   {
    "duration": 79,
    "start_time": "2024-07-06T07:21:30.572Z"
   },
   {
    "duration": 314,
    "start_time": "2024-07-06T07:21:30.653Z"
   },
   {
    "duration": 13,
    "start_time": "2024-07-06T07:21:30.969Z"
   },
   {
    "duration": 60,
    "start_time": "2024-07-06T07:21:30.985Z"
   },
   {
    "duration": 34,
    "start_time": "2024-07-06T07:21:31.047Z"
   },
   {
    "duration": 59,
    "start_time": "2024-07-06T07:21:31.083Z"
   },
   {
    "duration": 186,
    "start_time": "2024-07-06T07:21:31.144Z"
   },
   {
    "duration": 5,
    "start_time": "2024-07-06T07:21:31.332Z"
   },
   {
    "duration": 35,
    "start_time": "2024-07-06T07:21:31.339Z"
   },
   {
    "duration": 43,
    "start_time": "2024-07-06T07:21:31.376Z"
   },
   {
    "duration": 11,
    "start_time": "2024-07-06T07:21:31.421Z"
   },
   {
    "duration": 101,
    "start_time": "2024-07-06T07:21:31.434Z"
   },
   {
    "duration": 80,
    "start_time": "2024-07-06T07:21:31.536Z"
   },
   {
    "duration": 85,
    "start_time": "2024-07-06T07:21:31.618Z"
   },
   {
    "duration": 71,
    "start_time": "2024-07-06T07:21:31.704Z"
   },
   {
    "duration": 81,
    "start_time": "2024-07-06T07:21:31.792Z"
   },
   {
    "duration": 84,
    "start_time": "2024-07-06T07:21:31.875Z"
   },
   {
    "duration": 17,
    "start_time": "2024-07-06T07:28:31.146Z"
   },
   {
    "duration": 1330,
    "start_time": "2024-07-06T07:28:39.224Z"
   },
   {
    "duration": 189,
    "start_time": "2024-07-06T07:28:40.558Z"
   },
   {
    "duration": 30,
    "start_time": "2024-07-06T07:28:40.749Z"
   },
   {
    "duration": 10,
    "start_time": "2024-07-06T07:28:40.781Z"
   },
   {
    "duration": 70,
    "start_time": "2024-07-06T07:28:40.794Z"
   },
   {
    "duration": 94,
    "start_time": "2024-07-06T07:28:40.867Z"
   },
   {
    "duration": 8,
    "start_time": "2024-07-06T07:28:40.963Z"
   },
   {
    "duration": 128,
    "start_time": "2024-07-06T07:28:40.972Z"
   },
   {
    "duration": 46,
    "start_time": "2024-07-06T07:28:41.102Z"
   },
   {
    "duration": 26,
    "start_time": "2024-07-06T07:28:41.150Z"
   },
   {
    "duration": 58,
    "start_time": "2024-07-06T07:28:41.178Z"
   },
   {
    "duration": 12,
    "start_time": "2024-07-06T07:28:41.238Z"
   },
   {
    "duration": 40,
    "start_time": "2024-07-06T07:28:41.252Z"
   },
   {
    "duration": 8,
    "start_time": "2024-07-06T07:28:41.295Z"
   },
   {
    "duration": 347,
    "start_time": "2024-07-06T07:28:41.304Z"
   },
   {
    "duration": 19,
    "start_time": "2024-07-06T07:28:41.652Z"
   },
   {
    "duration": 66,
    "start_time": "2024-07-06T07:28:41.672Z"
   },
   {
    "duration": 8,
    "start_time": "2024-07-06T07:28:41.740Z"
   },
   {
    "duration": 75,
    "start_time": "2024-07-06T07:28:41.749Z"
   },
   {
    "duration": 13,
    "start_time": "2024-07-06T07:28:41.827Z"
   },
   {
    "duration": 1460,
    "start_time": "2024-07-06T07:28:41.842Z"
   },
   {
    "duration": 1501,
    "start_time": "2024-07-06T07:28:43.304Z"
   },
   {
    "duration": 1538,
    "start_time": "2024-07-06T07:28:44.806Z"
   },
   {
    "duration": 50,
    "start_time": "2024-07-06T07:28:46.345Z"
   },
   {
    "duration": 27,
    "start_time": "2024-07-06T07:28:46.396Z"
   },
   {
    "duration": 79,
    "start_time": "2024-07-06T07:28:46.424Z"
   },
   {
    "duration": 13,
    "start_time": "2024-07-06T07:28:46.505Z"
   },
   {
    "duration": 9,
    "start_time": "2024-07-06T07:28:46.519Z"
   },
   {
    "duration": 26,
    "start_time": "2024-07-06T07:28:46.529Z"
   },
   {
    "duration": 12,
    "start_time": "2024-07-06T07:28:46.556Z"
   },
   {
    "duration": 163,
    "start_time": "2024-07-06T07:28:46.570Z"
   },
   {
    "duration": 5,
    "start_time": "2024-07-06T07:28:46.735Z"
   },
   {
    "duration": 56,
    "start_time": "2024-07-06T07:28:46.742Z"
   },
   {
    "duration": 24,
    "start_time": "2024-07-06T07:28:46.799Z"
   },
   {
    "duration": 6,
    "start_time": "2024-07-06T07:28:46.824Z"
   },
   {
    "duration": 125,
    "start_time": "2024-07-06T07:28:46.832Z"
   },
   {
    "duration": 82,
    "start_time": "2024-07-06T07:28:46.961Z"
   },
   {
    "duration": 99,
    "start_time": "2024-07-06T07:28:47.045Z"
   },
   {
    "duration": 81,
    "start_time": "2024-07-06T07:28:47.146Z"
   },
   {
    "duration": 92,
    "start_time": "2024-07-06T07:28:47.228Z"
   },
   {
    "duration": 98,
    "start_time": "2024-07-06T07:28:47.324Z"
   },
   {
    "duration": 167,
    "start_time": "2024-07-06T07:30:17.221Z"
   },
   {
    "duration": 119,
    "start_time": "2024-07-06T07:31:22.402Z"
   },
   {
    "duration": 9,
    "start_time": "2024-07-06T07:31:50.363Z"
   },
   {
    "duration": 16,
    "start_time": "2024-07-06T07:32:00.835Z"
   },
   {
    "duration": 11,
    "start_time": "2024-07-06T07:32:32.064Z"
   },
   {
    "duration": 9,
    "start_time": "2024-07-06T07:32:55.765Z"
   },
   {
    "duration": 9,
    "start_time": "2024-07-06T07:33:37.603Z"
   },
   {
    "duration": 13,
    "start_time": "2024-07-06T07:33:50.741Z"
   },
   {
    "duration": 16,
    "start_time": "2024-07-06T07:37:17.985Z"
   },
   {
    "duration": 123,
    "start_time": "2024-07-06T07:37:41.162Z"
   },
   {
    "duration": 1091,
    "start_time": "2024-07-06T09:17:17.389Z"
   },
   {
    "duration": 240,
    "start_time": "2024-07-06T09:17:18.482Z"
   },
   {
    "duration": 26,
    "start_time": "2024-07-06T09:17:18.723Z"
   },
   {
    "duration": 3,
    "start_time": "2024-07-06T09:17:18.750Z"
   },
   {
    "duration": 67,
    "start_time": "2024-07-06T09:17:18.754Z"
   },
   {
    "duration": 72,
    "start_time": "2024-07-06T09:17:18.822Z"
   },
   {
    "duration": 17,
    "start_time": "2024-07-06T09:17:18.895Z"
   },
   {
    "duration": 85,
    "start_time": "2024-07-06T09:17:18.913Z"
   },
   {
    "duration": 23,
    "start_time": "2024-07-06T09:17:18.999Z"
   },
   {
    "duration": 7,
    "start_time": "2024-07-06T09:17:19.025Z"
   },
   {
    "duration": 50,
    "start_time": "2024-07-06T09:17:19.033Z"
   },
   {
    "duration": 7,
    "start_time": "2024-07-06T09:17:19.085Z"
   },
   {
    "duration": 34,
    "start_time": "2024-07-06T09:17:19.094Z"
   },
   {
    "duration": 6,
    "start_time": "2024-07-06T09:17:19.130Z"
   },
   {
    "duration": 291,
    "start_time": "2024-07-06T09:17:19.138Z"
   },
   {
    "duration": 13,
    "start_time": "2024-07-06T09:17:19.430Z"
   },
   {
    "duration": 37,
    "start_time": "2024-07-06T09:17:19.444Z"
   },
   {
    "duration": 7,
    "start_time": "2024-07-06T09:17:19.482Z"
   },
   {
    "duration": 24,
    "start_time": "2024-07-06T09:17:19.511Z"
   },
   {
    "duration": 8,
    "start_time": "2024-07-06T09:17:19.537Z"
   },
   {
    "duration": 1208,
    "start_time": "2024-07-06T09:17:19.546Z"
   },
   {
    "duration": 1302,
    "start_time": "2024-07-06T09:17:20.755Z"
   },
   {
    "duration": 1321,
    "start_time": "2024-07-06T09:17:22.058Z"
   },
   {
    "duration": 46,
    "start_time": "2024-07-06T09:17:23.380Z"
   },
   {
    "duration": 23,
    "start_time": "2024-07-06T09:17:23.427Z"
   },
   {
    "duration": 46,
    "start_time": "2024-07-06T09:17:23.451Z"
   },
   {
    "duration": 10,
    "start_time": "2024-07-06T09:17:23.513Z"
   },
   {
    "duration": 23,
    "start_time": "2024-07-06T09:17:23.526Z"
   },
   {
    "duration": 34,
    "start_time": "2024-07-06T09:17:23.550Z"
   },
   {
    "duration": 11,
    "start_time": "2024-07-06T09:17:23.586Z"
   },
   {
    "duration": 332,
    "start_time": "2024-07-06T09:17:23.598Z"
   },
   {
    "duration": 5,
    "start_time": "2024-07-06T09:17:23.931Z"
   },
   {
    "duration": 7,
    "start_time": "2024-07-06T09:17:23.937Z"
   },
   {
    "duration": 22,
    "start_time": "2024-07-06T09:17:23.945Z"
   },
   {
    "duration": 44,
    "start_time": "2024-07-06T09:17:23.969Z"
   },
   {
    "duration": 110,
    "start_time": "2024-07-06T09:17:24.015Z"
   },
   {
    "duration": 57,
    "start_time": "2024-07-06T09:17:24.127Z"
   },
   {
    "duration": 69,
    "start_time": "2024-07-06T09:17:24.185Z"
   },
   {
    "duration": 104,
    "start_time": "2024-07-06T09:17:24.256Z"
   },
   {
    "duration": 64,
    "start_time": "2024-07-06T09:17:24.361Z"
   },
   {
    "duration": 56,
    "start_time": "2024-07-06T09:17:24.426Z"
   },
   {
    "duration": 72,
    "start_time": "2024-07-06T09:17:24.483Z"
   },
   {
    "duration": 11,
    "start_time": "2024-07-06T09:18:47.910Z"
   },
   {
    "duration": 1080,
    "start_time": "2024-07-06T09:20:51.800Z"
   },
   {
    "duration": 147,
    "start_time": "2024-07-06T09:20:52.882Z"
   },
   {
    "duration": 24,
    "start_time": "2024-07-06T09:20:53.031Z"
   },
   {
    "duration": 3,
    "start_time": "2024-07-06T09:20:53.056Z"
   },
   {
    "duration": 81,
    "start_time": "2024-07-06T09:20:53.060Z"
   },
   {
    "duration": 87,
    "start_time": "2024-07-06T09:20:53.142Z"
   },
   {
    "duration": 7,
    "start_time": "2024-07-06T09:20:53.230Z"
   },
   {
    "duration": 95,
    "start_time": "2024-07-06T09:20:53.238Z"
   },
   {
    "duration": 16,
    "start_time": "2024-07-06T09:20:53.335Z"
   },
   {
    "duration": 8,
    "start_time": "2024-07-06T09:20:53.353Z"
   },
   {
    "duration": 61,
    "start_time": "2024-07-06T09:20:53.362Z"
   },
   {
    "duration": 8,
    "start_time": "2024-07-06T09:20:53.425Z"
   },
   {
    "duration": 19,
    "start_time": "2024-07-06T09:20:53.434Z"
   },
   {
    "duration": 6,
    "start_time": "2024-07-06T09:20:53.454Z"
   },
   {
    "duration": 328,
    "start_time": "2024-07-06T09:20:53.462Z"
   },
   {
    "duration": 20,
    "start_time": "2024-07-06T09:20:53.792Z"
   },
   {
    "duration": 39,
    "start_time": "2024-07-06T09:20:53.813Z"
   },
   {
    "duration": 8,
    "start_time": "2024-07-06T09:20:53.853Z"
   },
   {
    "duration": 21,
    "start_time": "2024-07-06T09:20:53.863Z"
   },
   {
    "duration": 33,
    "start_time": "2024-07-06T09:20:53.886Z"
   },
   {
    "duration": 1321,
    "start_time": "2024-07-06T09:20:53.920Z"
   },
   {
    "duration": 1466,
    "start_time": "2024-07-06T09:20:55.243Z"
   },
   {
    "duration": 1348,
    "start_time": "2024-07-06T09:20:56.712Z"
   },
   {
    "duration": 41,
    "start_time": "2024-07-06T09:20:58.061Z"
   },
   {
    "duration": 25,
    "start_time": "2024-07-06T09:20:58.112Z"
   },
   {
    "duration": 50,
    "start_time": "2024-07-06T09:20:58.139Z"
   },
   {
    "duration": 30,
    "start_time": "2024-07-06T09:20:58.191Z"
   },
   {
    "duration": 7,
    "start_time": "2024-07-06T09:20:58.225Z"
   },
   {
    "duration": 7,
    "start_time": "2024-07-06T09:20:58.234Z"
   },
   {
    "duration": 15,
    "start_time": "2024-07-06T09:20:58.242Z"
   },
   {
    "duration": 327,
    "start_time": "2024-07-06T09:20:58.259Z"
   },
   {
    "duration": 10,
    "start_time": "2024-07-06T09:20:58.587Z"
   },
   {
    "duration": 36,
    "start_time": "2024-07-06T09:20:58.598Z"
   },
   {
    "duration": 31,
    "start_time": "2024-07-06T09:20:58.635Z"
   },
   {
    "duration": 53,
    "start_time": "2024-07-06T09:20:58.667Z"
   },
   {
    "duration": 5,
    "start_time": "2024-07-06T09:20:58.721Z"
   },
   {
    "duration": 64,
    "start_time": "2024-07-06T09:20:58.728Z"
   },
   {
    "duration": 63,
    "start_time": "2024-07-06T09:20:58.793Z"
   },
   {
    "duration": 68,
    "start_time": "2024-07-06T09:20:58.858Z"
   },
   {
    "duration": 102,
    "start_time": "2024-07-06T09:20:58.928Z"
   },
   {
    "duration": 55,
    "start_time": "2024-07-06T09:20:59.031Z"
   },
   {
    "duration": 97,
    "start_time": "2024-07-06T09:20:59.088Z"
   },
   {
    "duration": 67,
    "start_time": "2024-07-06T09:20:59.186Z"
   },
   {
    "duration": 97,
    "start_time": "2024-07-06T09:20:59.254Z"
   },
   {
    "duration": 1394,
    "start_time": "2024-07-09T18:27:28.226Z"
   },
   {
    "duration": 317,
    "start_time": "2024-07-09T18:27:29.621Z"
   },
   {
    "duration": 43,
    "start_time": "2024-07-09T18:27:29.941Z"
   },
   {
    "duration": 4,
    "start_time": "2024-07-09T18:27:29.986Z"
   },
   {
    "duration": 85,
    "start_time": "2024-07-09T18:27:29.991Z"
   },
   {
    "duration": 92,
    "start_time": "2024-07-09T18:27:30.078Z"
   },
   {
    "duration": 9,
    "start_time": "2024-07-09T18:27:30.173Z"
   },
   {
    "duration": 131,
    "start_time": "2024-07-09T18:27:30.183Z"
   },
   {
    "duration": 30,
    "start_time": "2024-07-09T18:27:30.316Z"
   },
   {
    "duration": 32,
    "start_time": "2024-07-09T18:27:30.349Z"
   },
   {
    "duration": 78,
    "start_time": "2024-07-09T18:27:30.382Z"
   },
   {
    "duration": 9,
    "start_time": "2024-07-09T18:27:30.461Z"
   },
   {
    "duration": 34,
    "start_time": "2024-07-09T18:27:30.472Z"
   },
   {
    "duration": 6,
    "start_time": "2024-07-09T18:27:30.508Z"
   },
   {
    "duration": 345,
    "start_time": "2024-07-09T18:27:30.516Z"
   },
   {
    "duration": 17,
    "start_time": "2024-07-09T18:27:30.863Z"
   },
   {
    "duration": 79,
    "start_time": "2024-07-09T18:27:30.882Z"
   },
   {
    "duration": 7,
    "start_time": "2024-07-09T18:27:30.963Z"
   },
   {
    "duration": 44,
    "start_time": "2024-07-09T18:27:30.972Z"
   },
   {
    "duration": 37,
    "start_time": "2024-07-09T18:27:31.017Z"
   },
   {
    "duration": 92,
    "start_time": "2024-07-09T18:27:31.056Z"
   },
   {
    "duration": 27,
    "start_time": "2024-07-09T18:27:31.150Z"
   },
   {
    "duration": 73,
    "start_time": "2024-07-09T18:27:31.179Z"
   },
   {
    "duration": 13,
    "start_time": "2024-07-09T18:27:31.254Z"
   },
   {
    "duration": 34,
    "start_time": "2024-07-09T18:27:31.268Z"
   },
   {
    "duration": 40,
    "start_time": "2024-07-09T18:27:31.304Z"
   },
   {
    "duration": 39,
    "start_time": "2024-07-09T18:27:31.346Z"
   },
   {
    "duration": 221,
    "start_time": "2024-07-09T18:27:31.388Z"
   },
   {
    "duration": 13,
    "start_time": "2024-07-09T18:27:31.611Z"
   },
   {
    "duration": 41,
    "start_time": "2024-07-09T18:27:31.626Z"
   },
   {
    "duration": 61,
    "start_time": "2024-07-09T18:27:31.669Z"
   },
   {
    "duration": 155,
    "start_time": "2024-07-09T18:27:31.731Z"
   },
   {
    "duration": 75,
    "start_time": "2024-07-09T18:27:31.888Z"
   },
   {
    "duration": 216,
    "start_time": "2024-07-09T18:27:31.965Z"
   },
   {
    "duration": 170,
    "start_time": "2024-07-09T18:27:32.183Z"
   },
   {
    "duration": 71,
    "start_time": "2024-07-09T18:27:32.354Z"
   },
   {
    "duration": 144,
    "start_time": "2024-07-09T18:27:32.427Z"
   },
   {
    "duration": 85,
    "start_time": "2024-07-09T18:27:32.573Z"
   },
   {
    "duration": 117,
    "start_time": "2024-07-09T18:27:32.659Z"
   },
   {
    "duration": 91,
    "start_time": "2024-07-09T18:27:32.778Z"
   },
   {
    "duration": 125,
    "start_time": "2024-07-09T18:27:32.871Z"
   },
   {
    "duration": 11,
    "start_time": "2024-07-09T18:29:10.221Z"
   },
   {
    "duration": 6,
    "start_time": "2024-07-09T18:29:10.316Z"
   }
  ],
  "kernelspec": {
   "display_name": "Python 3 (ipykernel)",
   "language": "python",
   "name": "python3"
  },
  "language_info": {
   "codemirror_mode": {
    "name": "ipython",
    "version": 3
   },
   "file_extension": ".py",
   "mimetype": "text/x-python",
   "name": "python",
   "nbconvert_exporter": "python",
   "pygments_lexer": "ipython3",
   "version": "3.9.5"
  },
  "toc": {
   "base_numbering": 1,
   "nav_menu": {},
   "number_sections": true,
   "sideBar": true,
   "skip_h1_title": true,
   "title_cell": "Table of Contents",
   "title_sidebar": "Contents",
   "toc_cell": false,
   "toc_position": {},
   "toc_section_display": true,
   "toc_window_display": false
  }
 },
 "nbformat": 4,
 "nbformat_minor": 2
}
